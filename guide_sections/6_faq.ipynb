{
 "cells": [
  {
   "cell_type": "markdown",
   "metadata": {},
   "source": [
    "# Ofte stilte spørsmål om Fouriertransformasjonen og dens implementasjon i Python"
   ]
  },
  {
   "cell_type": "markdown",
   "metadata": {},
   "source": [
    "Dette notatet er en samling av ofte stilte spørsmål om Fouriertransformasjonen og dens implementasjon i Python som jeg har samlet opp gjennom årene. Jeg har forsøkt å svare på spørsmålene så godt jeg kan. "
   ]
  },
  {
   "cell_type": "markdown",
   "metadata": {},
   "source": [
    "## Burde jeg bruke SciPy eller NumPy sin FFT funksjon?\n",
    "\n",
    "Om du er en nybegynner til FFT-en så har det egentlig veldig lite å si. Jeg personlig foretrekker SciPy. FFT funksjonene i seg selv er veldig lik hverandre, men SciPy har andre funksjoner som kan være nyttige, eksempelvis funksjonene i `scipy.signal`, som har mange nyttige funksjoner for frekvensanalyse og signalbehandling.\n",
    "\n",
    "## Hva er forkjellen på DTFT-en og DFT-en?\n",
    "\n",
    "Tenk på DTFT-en som en versjon av den \"vanlige,\" kontinuerlige Fouriertransformasjonen som transformerer en funksjon som er diskret i tidsdomenet, heller enn en som har en kontinuerlig tidsdomene. Ergo navnet, discrete-time Fourier transform (DTFT). **Frekvensvariabelen, altså frekvensdomenet til en DTFT er fortsatt kontinuerlig**. DFT-en derimot, diskret Fouriertransformasjon, transformerer en diskret funksjon til et diskret frekvensspekter. DFT-en er altså en diskretisert versjon av DTFT-en. \n",
    "\n",
    "Merk at DTFT-en kan fortsatt gi et frekvensspekter som er diskret, om funksjonen som transformeres er periodisk. **Men til og med da, DTFT-en er definert med en kontinuerlig frekvensvariabel**. DFT-en er derimot definert med en diskret frekvensvariabel.\n",
    "\n",
    "Om vi ser for oss den kontinuerlige Fouriertransformen, DTFT-en og DFT-en, er det kun DFT-en som kan implementeres på en digital datamaskin. Dette er fordi digitale datamasikner kan ikke utføre regenoperasjoner på kontinuerlige (analoge) verdier. **Datamaskiner kan kun håndtere diskrete verdier**. \n",
    "\n",
    "Analoge datamaskiner var faktisk i bruk før digitale datamaskiner, og de kunne utføre regneoperasjoner på kontinuerlige verdier. Men de var dyre, hadde veldig spesifikke bruksområder og var veldig sensitve for støy. Digitale datamaskiner er mye mer robuste og allsidig, og det er derfor de har så og si utryddet den analoge datamaskinen. Så selv om DFT-en har sine nyanser som kan være frustrerende, så er det mye mer praktisk å ta hensyn til de enn det er å bruke en analog datamaskin."
   ]
  },
  {
   "cell_type": "markdown",
   "metadata": {},
   "source": [
    "## Hva gjør FFT-en forskjellig fra DFT-en?\n",
    "\n",
    "Dette er et noe teknisk og matematisk tungt spørsmål som er ikke akkurat enkelt å svare på i et avsnitt. Men veldig kort fortalt, FFT-en utnytter symmetrier i DFT-en og rekursivt halverer signalet for å så gjøre et betydelig mindre antall regneoperasjoner. Dette gjør at FFT-en er mye raskere enn DFT-en. Hvis du er kjent med big-Oh notasjon, er DFT-en $O(n^2)$ i tidskompleksitet, mens FFT-en er $O(n\\log n)$. Intuitivt så betyr dette at desto større signalet ditt er (desto større $n$), desto større blir forskjellen i tidskompleksitet, altså desto raskere blir FFT-en i forhold til DFT-en.\n",
    "\n",
    "Oppfinnelsen av FFT-algoritmen var såpass revolusjonerende at IEEE har kalt FFT-en en av de ti mest betydningsfulle algoritmene i det 20. århundre. "
   ]
  },
  {
   "cell_type": "markdown",
   "metadata": {},
   "source": [
    "# Jeg har sett mange eksmepler på nettet hvor lengden på signalet er en potens av 2, som 1024, 2048 osv. Hvorfor er det slik?\n",
    "\n",
    "Dette har med FFT-algoritmen å gjøre. FFT-algoritmen tar signalet og rekursivt halverer det. Siden signalet halveres, er den mest optimale signallegden en potens av 2. \n",
    "\n",
    "Det går allikevel an å bruke FFT-algoritmen på signaler som har en lengde som ikke er en potens av 2. Dette er noe de fleste implementasjoner av FFT-algoritmen tar rede for, for eksemepel ved å fylle ut signalet med nuller. Akkurat hvordan NumPy eller SciPy gjør det er jeg ikke sikker på."
   ]
  },
  {
   "cell_type": "markdown",
   "metadata": {},
   "source": []
  }
 ],
 "metadata": {
  "language_info": {
   "name": "python"
  },
  "orig_nbformat": 4
 },
 "nbformat": 4,
 "nbformat_minor": 2
}
