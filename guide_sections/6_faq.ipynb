{
 "cells": [
  {
   "cell_type": "markdown",
   "metadata": {},
   "source": [
    "# Ofte stilte spørsmål om Fouriertransformasjonen og dens implementasjon i Python"
   ]
  },
  {
   "cell_type": "markdown",
   "metadata": {},
   "source": [
    "Dette notatet er en samling av ofte stilte spørsmål om Fouriertransformasjonen og dens implementasjon i Python som jeg har samlet opp gjennom årene. Jeg har forsøkt å svare på spørsmålene så godt jeg kan. "
   ]
  },
  {
   "cell_type": "markdown",
   "metadata": {},
   "source": [
    "## Burde jeg bruke SciPy eller NumPy sin FFT funksjon?\n",
    "\n",
    "Om du er en nybegynner til FFT-en så har det egentlig veldig lite å si. Mange foretrekker SciPy. FFT funksjonene i seg selv er veldig lik hverandre, men SciPy har andre funksjoner som kan være nyttige, eksempelvis funksjonene i `scipy.signal`, som har mange nyttige funksjoner for frekvensanalyse og signalbehandling.\n",
    "\n",
    "## Hva er forskjellen på DTFT-en og DFT-en?\n",
    "\n",
    "Tenk på DTFT-en som en versjon av den \"vanlige,\" kontinuerlige Fouriertransformasjonen, som transformerer en funksjon som er diskret i tid (altså ikke kontinuerlig). Ergo navnet, discrete-time Fourier transform (DTFT). **Frekvensvariabelen, altså frekvensdomenet til en DTFT er fortsatt kontinuerlig**. DFT-en derimot, transformerer en diskret funksjon til et diskret frekvensspekter. Man kan tenke på DFT-en som en DTFT med en diskret frekvensvariabel. \n",
    "\n",
    "Merk at DTFT-en kan fortsatt gi et frekvensspekter som er diskret, om funksjonen som transformeres er periodisk. **Men til og med da, DTFT-en er fortsatt definert med en kontinuerlig frekvensvariabel**. DFT-en er derimot definert med en diskret frekvensvariabel.\n",
    "\n",
    "Det er kun DFT-en som kan implementeres på en datamaskin. Dette er fordi datamaskiner kan ikke utføre regenoperasjoner på kontinuerlige (analoge) verdier. **Datamaskiner kan kun håndtere diskrete verdier**. \n",
    "\n",
    "Analoge datamaskiner var faktisk i bruk før digitale datamaskiner, og de kunne utføre regneoperasjoner på kontinuerlige verdier. Men de var dyre, hadde veldig spesifikke bruksområder og var veldig sensitive for støy. Digitale datamaskiner er mye mer robuste og allsidig, og det er derfor de har så og si utryddet den analoge datamaskinen. Så selv om nyansene til DFT-en kan være frustrerende, så er det mye mer praktisk å ta hensyn til de enn det er å bruke en analog datamaskin."
   ]
  },
  {
   "cell_type": "markdown",
   "metadata": {},
   "source": [
    "## Hva gjør FFT-en forskjellig fra DFT-en?\n",
    "\n",
    "Dette er et noe teknisk og matematisk tungt spørsmål som er ikke akkurat enkelt å svare på i et avsnitt. Men veldig kort fortalt, FFT-en utnytter symmetrier i DFT-en og rekursivt halverer signalet for å så gjøre et betydelig mindre antall regneoperasjoner. Dette gjør at FFT-en er mye raskere enn DFT-en. Hvis du er kjent med big-Oh notasjon, er DFT-en $O(n^2)$ i tidskompleksitet, mens FFT-en er $O(n\\log n)$. Intuitivt så betyr dette at desto større signalet ditt er (desto større $n$), desto raskere blir FFT-en i forhold til DFT-en.\n",
    "\n",
    "Oppfinnelsen av FFT-algoritmen var såpass revolusjonerende at IEEE har kalt FFT-en en av de ti mest betydningsfulle algoritmene i det 20. århundre. "
   ]
  },
  {
   "cell_type": "markdown",
   "metadata": {},
   "source": [
    "## Jeg har sett mange eksmepler på nettet hvor lengden på signalet eller frekvensdomenet er en potens av 2, som 1024, 2048 osv. Hvorfor er det slik?\n",
    "\n",
    "Dette har med FFT-algoritmen å gjøre. Den originale FFT-algoritmen (ofte kalt Cooley-Tukey algoritmen) tar signalet og rekursivt halverer det. Siden signalet halveres, er den optimale signallengden en potens av 2. \n",
    "\n",
    "Jeg (en bachelorstudent) har personlig aldri hatt problemer med å bruke signallengder som ikke er en potens av 2. "
   ]
  },
  {
   "cell_type": "markdown",
   "metadata": {},
   "source": [
    "## Hva representerer real- og imaginærdelen av Fouriertransformasjonen?\n",
    "\n",
    "Real og imaginærdelen representerer henholdsvis Fouriertransformasjonen til den jevne og odde delen av funksjonen. Her kommer en kort forklaring på hva dette betyr:\n",
    "\n",
    "Det er bevist at enhver reell funksjon kan skrives som en sum av en jevn og en odde funksjon. Minner på at en jevn funksjon er: \n",
    "\n",
    "$$f_{jevn}(t) = f_{jevn}(-t)$$\n",
    "\n",
    "Med andre ord en funksjon som er speilet langs y-aksen. \n",
    "\n",
    "En odde funksjon er:\n",
    "\n",
    "$$f_{odde}(t) = -f_{odde}(-t)$$\n",
    "\n",
    "Dette er en funksjon som er speilet langs origo, også kalt en antisymmetrisk funksjon. \n",
    "\n",
    "Så enhver funksjon $f(t)$ kan bli splittet opp i $f_{jevn}(t) + f_{odde}(t)$. \n",
    "\n",
    "Realdelen til Fouriertransformasjonen er faktisk frekvensdomenet til den jevne delen av funksjonen, og imaginærdelen er frekvensdomenet til den odde delen. Så hvis vi tar Fouriertransformasjonen av en helt jevn funksjon, kommer den frekvensspekter til å kun ha en realdel, med imaginærdel lik null. Det motsatte gjelder en funksjon som er helt odde: dens frekvensspekter kommer til å være imaginær, med realdel lik 0. Eksempler på slike funksjoner er enkle cosinus og sinusfunksjoner: en cosinus kommer til å ha en Fouriertransformasjon med imagniærdel lik null (fordi en cosinus er en jevn funksjon), og en sinus kommer til å ha en Fouriertransformasjon med realdel lik null (fordi en sinus er en odde funksjon). "
   ]
  },
  {
   "cell_type": "markdown",
   "metadata": {},
   "source": [
    "## Hvorfor komplekse tall?\n",
    "\n",
    "Fordi det er praktisk. Man kan faktisk ta Fouriertransformasjonen uten å bruke komplekse tall. En kompleks eksponensial er jo bare en cosinus og sinus lagret i henholdsvis real- og imaginærdelen, så om man vil så kan vi la være å bruke komplekse tall og splitte Fouriertransformasjonen i to, og regne ut cosinus- og sinusdelene hver for seg (dette er faktisk hvordan Joseph Fourier regnet ut Fouriertransformasjonen i sin tid). \n",
    "\n",
    "Med dette i mente kan vi legge merke til en åpenbar fordel med å bruke komplekse tall: vi kan nemlig skrive Fouriertransformasjonen på en mer kompakt måte, heller enn å bruke to formler: en for sinusdelen, og en for cosinusdelen. Med komplekse tall så kan vi skrive Fouriertransformasjonen som en enkelt formel, og dermed slippe å skrive to formler. \n",
    "\n"
   ]
  },
  {
   "cell_type": "markdown",
   "metadata": {},
   "source": [
    "## Jeg vet at signalet mitt innholder en bestemt frekvens. Men, når jeg plotter amplituden til Fouriertransformasjonen, så stemmer ikke amplituden i frekvensspektret overens med amplituden til frekvensen jeg vet er i signalet. Hva er galt!?\n",
    "\n",
    "Først må du forsikre deg om at du normaliserer frekvensspektret ditt riktig, les del 3 og 4 i dette notatet for mer informasjon. Koden i del 5 viser hvordan man gjør det i praksis. \n",
    "\n",
    "Hvis du er sikker på at du har normalisert frekvensspektret ditt riktig, er det mulig at du har lekkasje i spektret ditt, ref. del 4. "
   ]
  },
  {
   "cell_type": "markdown",
   "metadata": {},
   "source": []
  }
 ],
 "metadata": {
  "language_info": {
   "name": "python"
  },
  "orig_nbformat": 4
 },
 "nbformat": 4,
 "nbformat_minor": 2
}
