{
 "cells": [
  {
   "cell_type": "markdown",
   "metadata": {},
   "source": [
    "# Del 1: Introduksjon \n",
    "\n",
    "\n",
    "Velkommen til denne innføringen til Fouriertransformasjonen! Denne ressursen er laget til deg som vil ha en lettvint innføring i teorien bak og anvendelsen av Fouriertransformasjonen.\n",
    "\n",
    "\n",
    "### Hvorfor burde jeg lære meg dette?\n",
    "\n",
    "Se for deg et lydopptak av et orkester. Et orkester består gjerne av mange forskjellige instrumenter som spiller forskjellige toner med forskjellige frekvenser. Om vi for et eller annet grunn er interessert i hvilke frekvenser som inngår i lydopptaket, er det ikke så lett å se dette ved å bare høre på lydopptaket. Da kan vi bruke Fouriertransformasjonen, som kommer til å ta lydopptaket og omdanne det til en funksjon som viser hvilke frekvenser som inngår i lydopptaket. Da kan vi veldig enkelt se hvilke frekvenser orkestret består av. \n",
    "\n",
    "Å se frekvensinnholdet i et signal er en problemstilling som dukker opp i mange sammenhenger, ikke bare lyd. Fouriertransformasjonen er et kraftig verktøy som kan brukes til å analysere og forstå signaler i mange forskjellige fagfelt, blant annet innenfor fysikk, kjemi, elektronikk, biologi, finans og meteorologi.\n",
    "\n",
    "Generelt kan vi si at **Fouriertransformasjonen er en operasjon som tar et signal fra tidsdomenet til frekvensdomenet.** Akkurat hva Fouriertransformasjonen, tidsdomenet og frekvensdomenet er, skal vi se nærmere på i de neste kapitlene.\n",
    "\n",
    "### Hvordan er denne ressursen strukturert?\n",
    "\n",
    "Del 2 til 4 er en introduksjon til Fouriertransformasjonen og teorien som ligger bak. Her skal vi se på hva Fouriertransformasjonen er, hvordan den fungerer og hvordan vi kan bruke den til å analysere signaler. \n",
    "\n",
    "Del 5 og videre gir en innføring i hvordan man kan bruke SciPy til å utføre Fouriertransformasjonen i praksis. Om du er kun interessert i hvordan å kode Fouriertransformasjonen i Python, kan du hoppe rett til Del 5.\n",
    "\n",
    "### Forkunnskapskrav\n",
    "\n",
    "Jeg antar at du har kontroll på følgende:\n",
    "\n",
    "\n",
    "- Frekvens, vinkelfrekvens, periode og hvordan disse henger sammen,\n",
    "- Representasjon av svingninger ved bruk av trigonometriske funksjoner (sinus og cosinus, amplitude, frekvens, fase, osv.),\n",
    "- Komplekse tall, Euler's formel og koblingen mellom trigonometriske funksjoner og komplekse eksponensialer,\n",
    "- Integrasjon og derivasjon på et nivå som tilsvarer en introduksjonskurs i kalkulus.\n",
    "\n",
    "\n",
    "I tillegg antar jeg at du kan grunnleggende vitenskapelig programmering i Python. Du må også ha SciPy pakken i din environment, men jeg forventer ikke at du har brukt SciPy før."
   ]
  },
  {
   "cell_type": "markdown",
   "metadata": {},
   "source": []
  }
 ],
 "metadata": {
  "kernelspec": {
   "display_name": "Python 3",
   "language": "python",
   "name": "python3"
  },
  "language_info": {
   "name": "python",
   "version": "3.11.6"
  },
  "orig_nbformat": 4
 },
 "nbformat": 4,
 "nbformat_minor": 2
}
