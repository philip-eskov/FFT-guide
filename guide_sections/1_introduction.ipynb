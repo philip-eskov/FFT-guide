{
 "cells": [
  {
   "cell_type": "markdown",
   "metadata": {},
   "source": [
    "# Del 1: Introduksjon \n",
    "\n",
    "\n",
    "Velkommen til denne innføringen i frekvensanalyse! Denne ressursen er laget til deg som vil ha en lettvint innføring i teorien bak og anvendelsen av frekvensanalyse.\n",
    "\n",
    "\n",
    "### Hvorfor burde jeg lære meg dette?\n",
    "\n",
    "\n",
    "Se for deg en orkesterkonsert. Hvert instrument spiller noter med forskjellige frekvenser. Noen er høye toner, andre lave, men sammen skaper de en melodi. Hva om vi ønsker å isolere lyden fra bare én fiolin eller klarinett fra denne symfonien? Frekvensanalyse gir oss verktøyene for å gjøre nettopp dette, ikke bare med musikk, men med ethvert signal. Dermed er frekvensanalyse en av de mest anvendelige verktøyene i verktøykassene til fagpersoner innenfor vitenskap og teknologi. Denne verktøyen benyttes i alle slags mulige fagfelt, alt fra fysikk, kjemi og elektronikk til biologi, finans og meteorologi.\n",
    "\n",
    "\n",
    "Kjernen i frekvensanalyse er Fouriertransformasjonen, som er en matematisk operasjon som tar et signal (en funksjon av tid) og omdanner den til en funksjon som viser hvilke frekvenser signalet består av. Generelt kan vi si at **Fouriertransformasjonen er en operasjon som tar et signal fra tidsdomenet til frekvensdomenet.** Akkurat hva Fouriertransformasjonen, tidsdomenet og frekvensdomenet er, skal vi se nærmere på i de neste kapitlene.\n",
    "\n",
    "### Forkunnskapskrav\n",
    "\n",
    "\n",
    "For at jeg skal kunne gi deg en grei innføring i frekvensanalyse uten å spore av for mye, så forutser jeg noe bakgrunnskunnskap. Når det gjelder det teoretiske grunnlaget til frekvensanalyse, så antar jeg at du i det minste kan følgende:\n",
    "\n",
    "\n",
    "- Hva frekvens, vinkelfrekvens, og periode er,\n",
    "- Representasjon av svingninger ved bruk av trigonometriske funksjoner (sinus og cosinus, amplitude, frekvens, fase, osv.),\n",
    "- Komplekse tall, spesielt Euler's formel og koblingen mellom trigonometriske funksjoner og komplekse eksponensialer,\n",
    "- Integrasjon og derivasjon på et nivå som tilsvarer en introduksjonskurs i kalkulus, eksempelvis MAT1100 ved UiO.\n",
    "\n",
    "\n",
    "I tillegg så antar jeg at du kan grunnleggende vitenskapelig programmering i Python på et nivå som tilsvarer IN1900 ved UiO. Du må også ha SciPy pakken i din environment, men jeg forventer ikke at du har brukt SciPy før."
   ]
  },
  {
   "cell_type": "markdown",
   "metadata": {},
   "source": []
  }
 ],
 "metadata": {
  "kernelspec": {
   "display_name": "Python 3",
   "language": "python",
   "name": "python3"
  },
  "language_info": {
   "name": "python",
   "version": "3.11.6"
  },
  "orig_nbformat": 4
 },
 "nbformat": 4,
 "nbformat_minor": 2
}
