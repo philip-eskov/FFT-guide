{
 "cells": [
  {
   "cell_type": "markdown",
   "metadata": {},
   "source": [
    "# Del 2: Hva er tids- og frekvensdomenet? \n",
    "\n",
    "## Tidsdomenet\n",
    "Ta for eksempel følgende funksjon:\n",
    "\n",
    "$f(t) = sin(2\\pi t)$\n",
    "\n",
    "Dette er en sinuskurve med amplitude lik 1 og frekvens lik 1 Hz. Funksjonen ser slik ut i **tids**domenet: \n",
    "\n",
    "<center><img src = \"plots/p2_signal_1.png\" width = \"400px\"></center>\n",
    "\n",
    "Du har nesten garantert vært borti funksjoner i tidsdomenet, selv om du ikke skjenner til begrepet tidsdomenet. Om en funksjon er i tidsdomenet, utvikles funksjonsverdien med hensyn på tid. Om det er posisjon over tid, elektrisk spenning over tid, eller noe annet over tid, befinner funksjonen seg i tidsdomenet."
   ]
  },
  {
   "cell_type": "markdown",
   "metadata": {},
   "source": [
    "## Frekvensdomenet\n",
    "\n",
    "La oss ta den samme funksjonen og se på den i frekvensdomenet: \n",
    "\n",
    "<center><img src = \"plots/p2_signal_1_FFT.png\" width = \"400px\"></center>\n",
    "\n",
    "Grafen viser amplitude med hensyn på frekvens. Dette kalles ofte for **frekvensspektret** av en funksjon. **Frekvensspektret viser hvilke frekvenser funksjonen inneholder.** I f(t) = sin(2πt) er det kun en frekvens, 1 Hz. I tillegg er amplituden til sinuskurven lik 1. Derfor ser vi kun én stolpe på 1 Hz  har en verdi av 1. Vi kan da si at funksjonen $f(t)$ består av én frekvenskomponent på 1 Hz med amplitude 1."
   ]
  },
  {
   "cell_type": "markdown",
   "metadata": {},
   "source": [
    "La oss se på en litt mer komplisert funksjon. Vi definerer en ny sinuskurve: \n",
    "\n",
    "$g(t) = 3sin(2\\pi * 4 t)$\n",
    "\n",
    "Dette er da en sinuskurve med amplitude lik 3 og frekvens lik 4 Hz, og ser slik ut i tids- og frekvensdomenet: \n",
    "\n",
    "<center><img src = \"plots/p2_signal_2.png\" width = \"400px\"><img src = \"plots/p2_signal_2_FFT.png\" width = \"400px\"></center>\n",
    "\n",
    "Vi legger sammen $g(t)$ og $f(t)$, og får:\n",
    "\n",
    "$h(t) = f(t) + g(t) = sin(2\\pi t) + 3sin(2\\pi * 4 t)$\n",
    "\n",
    "Denne funksjonen ser slik ut i tidsdomenet:\n",
    "\n",
    "<center><img src = \"plots/p2_signal_1a2.png\" width = \"400px\"></center>"
   ]
  },
  {
   "cell_type": "markdown",
   "metadata": {},
   "source": [
    "La oss nå se på hvordan $h(t)$ ser ut i frekvensdomenet:\n",
    "\n",
    "<center><img src = \"plots/p2_signal_1a2_FFT.png\" width = \"400px\"></center>"
   ]
  },
  {
   "cell_type": "markdown",
   "metadata": {},
   "source": [
    "Her ser vi to stolper på henholdsvis 1 og 4 Hz, som tilsvarer frekvensene til $f(t)$ og $g(t)$. Siden $h(t)$ er en sum av $f(t)$ og $g(t)$, inneholder $h(t)$ frekvensene til $f(t)$ og $g(t)$. $h(t)$ har da frekvenskomponenter med amplitude lik 1 og 3 med frekvenser lik 1 og 4 Hz, som tilsvarer frekvenskomponentene $f(t)$ og $g(t)$. \n",
    "\n",
    "Kort oppsumert: ved å se på en funksjon i frekvensdomenet kan vi se hvilke frekvenser funksjonen består av, uansett hvor komplisert den opprinnlige funksjonen er."
   ]
  },
  {
   "cell_type": "markdown",
   "metadata": {},
   "source": [
    "Så langt så har jeg vist deg hva frekvensdomenet er uten å si noe om hvordan man går fra det ene domenet til det andre. I neste kapittel kommer vi til å se på Fouriertransformasjonen, som er formelen som gjør det mulig å gå fra tidsdomenet til frekvensdomenet."
   ]
  },
  {
   "cell_type": "markdown",
   "metadata": {},
   "source": []
  }
 ],
 "metadata": {
  "kernelspec": {
   "display_name": "Python 3",
   "language": "python",
   "name": "python3"
  },
  "language_info": {
   "codemirror_mode": {
    "name": "ipython",
    "version": 3
   },
   "file_extension": ".py",
   "mimetype": "text/x-python",
   "name": "python",
   "nbconvert_exporter": "python",
   "pygments_lexer": "ipython3",
   "version": "3.9.6"
  },
  "orig_nbformat": 4
 },
 "nbformat": 4,
 "nbformat_minor": 2
}
