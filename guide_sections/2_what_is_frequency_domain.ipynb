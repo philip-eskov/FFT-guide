{
 "cells": [
  {
   "cell_type": "markdown",
   "metadata": {},
   "source": [
    "# Del 1: Hva er tids- og frekvensdomene? \n",
    "\n",
    "## Tidsdomenet\n",
    "Ta for eksempel følgende funksjon:\n",
    "\n",
    "$f(t) = sin(2\\pi t)$\n",
    "\n",
    "Dette er da en enkel sinuskurve med amplitude lik 1 og frekvens lik 1 Hz. Funksjonen ser slik ut i **tids**domenet: \n",
    "\n",
    "<img src = \"plots/p2_signal_1.png\" width = \"400px\">\n",
    "\n",
    "Du har garantert vært borti funksjoner i tidsdomene før, selv om du kanskje ikke skjenner til begrepet tidsdomene. Om en funksjon er i tidsdomenet, så utvikles funksjonsverdien over tid. Om det er posisjon over tid, elektrisk spenning over tid, eller noe annet over tid, så er det snakk om at funksjonen befinner seg i tidsdomenet.\n"
   ]
  },
  {
   "cell_type": "markdown",
   "metadata": {},
   "source": [
    "## Frekvensdomenet\n",
    "\n",
    "La oss ta den samme funksjonen og se på den i frekvensdomenet: \n",
    "\n",
    "<img src = \"plots/p2_signal_1_FFT.png\" width = \"400px\">\n",
    "\n",
    "Grafen her viser amplitude med hensyn på frekvens. **Ved å representere en funksjon i frekvensdomenet, så kan vi se hvilke frekvenser funksjonen inneholder.** I dette tilfellet har grafen en verdi av 0 bortsett fra når x = 1, altså frekvensen er lik 1. Dette er fordi funksjonen $f(t)$ har kun en frekvensinnholdende komponent, nemlig en sinus med frekvens 1. Vi kan dermed si at $f(t)$ har en **frekvenskomponent** med amplitude lik 1 og frekvens lik 1.\n",
    "\n",
    "Konvensjonsmessig er en frekvenskomponent alltid definert som en kosinus. Så når vi har en funksjon som er en enkel sinuskurve, så har den en frekvenskomponent som er en kosinus med faseforskyvning lik 90 grader (minner på at $\\sin(\\theta) = \\cos(\\frac{\\pi}{2}-\\theta)$).\n",
    "\n",
    "*(Ikke tenk på at grafen er trekantformet; det er en særegenhet med Matplotlib)*."
   ]
  },
  {
   "cell_type": "markdown",
   "metadata": {},
   "source": [
    "La oss nå se på en litt mer komplisert funksjon. Vi definerer en ny sinuskurve: \n",
    "\n",
    "$g(t) = 3sin(2\\pi * 4 t)$\n",
    "\n",
    "Dette er da en sinuskurve med amplitude lik 3 og frekvens lik 4 Hz, og ser slik ut i tids- og frekvensdomenet: \n",
    "\n",
    "<img src = \"plots/p2_signal_2.png\" width = \"400px\"><img src = \"plots/p2_signal_2_FFT.png\" width = \"400px\">\n",
    "\n",
    "Vi legger sammen $g(t)$ og $f(t)$, og får da:\n",
    "\n",
    "$h(t) = f(t) + g(t) = sin(2\\pi t) + 3sin(2\\pi * 4 t)$\n",
    "\n",
    "Denne funksjonen ser slik ut i tidsdomenet:\n",
    "\n",
    "<img src = \"plots/p2_signal_1a2.png\" width = \"400px\">"
   ]
  },
  {
   "cell_type": "markdown",
   "metadata": {},
   "source": [
    "La oss nå se på hvordan den ser ut i frekvensdomenet:\n",
    "\n",
    "<img src = \"plots/p2_signal_1a2_FFT.png\" width = \"400px\">"
   ]
  },
  {
   "cell_type": "markdown",
   "metadata": {},
   "source": [
    "Her ser vi at vi får utslag på 1 Hz og 4 Hz, som tilsvarer frekvensene til $f(t)$ og $g(t)$. Dette er fordi $h(t)$ er en sum av $f(t)$ og $g(t)$, og det kan dermed sies at $h(t)$ inneholder frekvensene til $f(t)$ og $g(t)$. $h(t)$ har da frekvenskomponenter med amplitude lik 1 og 3, og frekvenser lik 1 og 4. Igjen, fordi frekvenskomponenter er definert som kosinuser, så har begge frekvenskomponentene en faseforskyvning lik 90 grader. Hadde funksjonen $h(t)$ vært definert som en sum av to kosinuser i stedet, så hadde ikke de frekvenskomponentene hatt noen faseforskyvning.\n",
    "\n",
    "Oppsumert: ved å se på en funksjon i frekvensdomenet så kan vi se hvilke frekvenser den består av, uansett hvor komplisert den opprinnlige funksjonen er. Dette gjør frekvensanalyse til et uhyre nyttig verktøy. Hvis vi eksempelvis har et lydopptak av en opera som inneholder høyfrekvent støy, så kan vi finne ut hvilke frekvenser støyet består av ved å se på opptaket i frekvensdomenet, og dermed filtrere den ut."
   ]
  },
  {
   "cell_type": "markdown",
   "metadata": {},
   "source": [
    "Så langt så har jeg vist deg hva frekvensdomenet er uten å si noe om hvordan man går fra det ene domenet til det andre. I neste kapittel så kommer vi til å se på Fouriertransformasjonen: En formel som tar en funksjon fra tidsdomenet, og gjør dem om til en funksjon i frekvensdomenet."
   ]
  },
  {
   "cell_type": "markdown",
   "metadata": {},
   "source": []
  }
 ],
 "metadata": {
  "kernelspec": {
   "display_name": "Python 3",
   "language": "python",
   "name": "python3"
  },
  "language_info": {
   "codemirror_mode": {
    "name": "ipython",
    "version": 3
   },
   "file_extension": ".py",
   "mimetype": "text/x-python",
   "name": "python",
   "nbconvert_exporter": "python",
   "pygments_lexer": "ipython3",
   "version": "3.9.6"
  },
  "orig_nbformat": 4
 },
 "nbformat": 4,
 "nbformat_minor": 2
}
