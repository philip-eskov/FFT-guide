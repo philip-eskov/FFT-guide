{
 "cells": [
  {
   "cell_type": "markdown",
   "metadata": {},
   "source": [
    "# Del 1: Hva er tids- og frekvensdomene? \n",
    "\n",
    "## Tidsdomenet\n",
    "Ta for eksempel følgende funksjon:\n",
    "\n",
    "$f(t) = sin(2\\pi t)$\n",
    "\n",
    "Dette er da en enkel sinuskurve med amplitude lik 1 og frekvens lik 1 Hz. Funksjonen ser slik ut i **tids**domene: \n",
    "\n",
    "<img src = \"plots/p2_signal_1.png\" width = \"400px\">\n",
    "\n",
    "Du har garantert vært borti funksjoner i tidsdomene før, selv om du kanskje ikke skjenner til begrepet tidsdomene. Tidsdomenet er rett og slett hvordan funksjonen utvikler seg gjennom tid. Om det er posisjon over tid, elektrisk spenning over tid, eller noe annet over tid, så er det snakk om at funksjonen befinner seg i tidsdomenet.\n"
   ]
  },
  {
   "cell_type": "markdown",
   "metadata": {},
   "source": [
    "## Frekvensdomenet\n",
    "\n",
    "La oss ta den samme funksjonen og se på den i frekvensdomenet: \n",
    "\n",
    "<img src = \"plots/p2_signal_1_FFT.png\" width = \"400px\">\n",
    "\n",
    "Grafen her viser amplitude med hensyn på frekvens. Det er altså en graf som viser hvor mye av hver frekvens som er tilstede i funksjonen. I dette tilfellet har grafen en verdi av 0 bortsett fra når frekvensen er lik 1. Dette er fordi $f(t)$ består av kun en frekvens, nemlig 1 Hz. *(Ikke tenk på at grafen er trekantformet, Matplotlib er bare litt sær)*."
   ]
  },
  {
   "cell_type": "markdown",
   "metadata": {},
   "source": [
    "La oss nå se på en litt mer komplisert funksjon. Vi definerer en ny sinuskurve: \n",
    "\n",
    "$g(t) = 3sin(2\\pi * 4 t)$\n",
    "\n",
    "Dette er da en sinuskurve med amplitude lik 3 og frekvens lik 4 Hz, og ser slik ut i tids- og frekvensdomenet: \n",
    "\n",
    "<img src = \"plots/p2_signal_2.png\" width = \"400px\"><img src = \"plots/p2_signal_2_FFT.png\" width = \"400px\">\n",
    "\n",
    "Vi legger sammen $g(t)$ og $f(t)$, og får da:\n",
    "\n",
    "$h(t) = f(t) + g(t) = sin(2\\pi t) + 3sin(2\\pi * 4 t)$\n",
    "\n",
    "Denne funksjonen ser slik ut i tidsdomene:\n",
    "\n",
    "<img src = \"plots/p2_signal_1a2.png\" width = \"400px\">"
   ]
  },
  {
   "cell_type": "markdown",
   "metadata": {},
   "source": [
    "Mye mindre hyggelig enn de enkle sinuskurvene vi så på tidligere. La oss se hvordan den ser ut i frekvensdomenet:\n",
    "\n",
    "<img src = \"plots/p2_signal_1a2_FFT.png\" width = \"400px\">"
   ]
  },
  {
   "cell_type": "markdown",
   "metadata": {},
   "source": [
    "Her ser vi at vi får utslag på 1 Hz og 4 Hz, som tilsvarer frekvensene til $f(t)$ og $g(t)$. Dette er fordi $h(t)$ er en sum av $f(t)$ og $g(t)$, og det kan dermed sies at $h(t)$ inneholder begge frekvensene.\n",
    "\n",
    "Dette er en uhyre kraftig egenskap ved frekvensdomenet. Det er nemlig slik at alle funksjoner kan dekomponeres til en sum av sinuskurver. Dette betyr at vi kan analysere alle funksjoner i frekvensdomenet, og dermed få en mye bedre forståelse av dem. Hvis vi eksempelvis har en lydfil som inneholder høyfrekvent støy, så kan vi finne ut av hvilke frekvenser som støyen består av ved å se på signalet i frekvensdomene, og dermed filtrere den ut.\n"
   ]
  },
  {
   "cell_type": "markdown",
   "metadata": {},
   "source": [
    "Så langt så har jeg vist deg hva frekvensdomenet er uten å si noe om hvordan man går fra det ene domenet til det andre. I neste kapittel så kommer vi til å se på Fouriertransofmasjonen: En formel som tar en funksjon fra tidsdomenet, og gjør dem om til en funksjon i frekvensdomenet."
   ]
  }
 ],
 "metadata": {
  "kernelspec": {
   "display_name": "Python 3",
   "language": "python",
   "name": "python3"
  },
  "language_info": {
   "codemirror_mode": {
    "name": "ipython",
    "version": 3
   },
   "file_extension": ".py",
   "mimetype": "text/x-python",
   "name": "python",
   "nbconvert_exporter": "python",
   "pygments_lexer": "ipython3",
   "version": "3.9.6"
  },
  "orig_nbformat": 4
 },
 "nbformat": 4,
 "nbformat_minor": 2
}
