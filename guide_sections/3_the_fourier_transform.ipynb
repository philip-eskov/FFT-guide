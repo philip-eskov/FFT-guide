{
 "cells": [
  {
   "cell_type": "markdown",
   "metadata": {},
   "source": [
    "# Del 2: Fouriertransformasjonen"
   ]
  },
  {
   "cell_type": "markdown",
   "metadata": {},
   "source": [
    "Fouriertransformasjonen er definert slik: \n",
    "\n",
    "$$F(\\omega) = \\int_{-\\infty}^{\\infty} f(t) e^{-i\\omega t} dt$$\n",
    "\n",
    "Hvor $f(t)$ er en funksjon i tidsdomenet, $F(\\omega)$ er samme funksjon men i frekvensdomenet, og $\\omega$ er vinkelfrekvens. Vi kan alternativt skrive Fouriertransformasjonen med frekvens i stedet for vinkelfrekvens:\n",
    "\n",
    "$$F(f) = \\int_{-\\infty}^{\\infty} f(t) e^{-2\\pi if t} dt$$\n",
    "\n",
    "Hvor vi har tatt oss nytte av at $\\omega = 2\\pi f$."
   ]
  },
  {
   "cell_type": "markdown",
   "metadata": {},
   "source": [
    "Dette er da formelene som jeg snakket om i slutten av forrige kapittel, altså det som tar en funksjon fra tidsdomenet til frekvensdomenet. \n",
    "Disse formelene kan virke noe abstrakte og intimiderende, men de er ikke så ille som de ser ut. Med tanke på at de tar en funksjon til og fra to helt ulike representasjoner, så er de overasskende kompakte!\n",
    "\n",
    "Før jeg forklarer hva Fouriertransformasjonen faktisk gjør, er det greit å vite at det er også mulig å gå den andre veien, altså fra frekvensdomenet til tidsdomenet. Denne transformasjonen kalles den inverse Fouriertransformasjonen, og er definert slik:\n",
    "\n",
    "$$f(t) = \\frac{1}{2\\pi}\\int_{-\\infty}^{\\infty} F(\\omega) e^{i\\omega t} d\\omega$$\n",
    "\n",
    "Jeg kommer ikke til å gå i dybden i den inverse Fouriertransformasjonen, men det er verdt å vite at den eksisterer."
   ]
  },
  {
   "cell_type": "markdown",
   "metadata": {},
   "source": [
    "## Matten bak Fouriertransformasjonen:\n",
    "\n",
    "La oss nå prøve å få en intuisjon på hva som skjer når vi tar en funksjon fra tidsdomenet til frekvensdomenet med Fouriertransformasjonen. Fra nå av så kommer jeg til å bare betrakte Fouriertransjormasjonen med vinkelfrekvens og ikke \"vanlig\" frekvens, men begge formene er like gyldige.   \n",
    "\n",
    "La oss igjen se på Fouriertransformasjonen:\n",
    "\n",
    "$$F(\\omega) = \\int_{-\\infty}^{\\infty} f(t) e^{-i\\omega t} dt$$\n",
    "\n",
    "Hvis vi skulle beskrive det som skjer med ord, så tar vi en funksjon $f(t)$ som befinner seg i tidsdomenet og ganger den med en kompleks eksponensial, $e^{-i \\omega t}$. Deretter så integrerer vi resultatet over alle mulige verdier av $t$, og vipps, vi har fått funksjonen $f(t)$ inn i frekvensdomenet, representert med $F(\\omega)$.\n",
    "\n",
    "La oss da se på hva de to delene av formelen, nemlig ganginga og integegreringa, gjør:\n",
    "\n",
    "### Steg 1: Ganging med en kompleks eksponensial\n",
    "Først så ganges funksjonen $f(t)$ med en kompleks eksponensial. Minner på at en kompleks eksponensial er definert slik med Euler's formel:\n",
    "\n",
    "$$e^{-i\\omega t} = \\cos(\\omega t) - i\\sin(\\omega t)$$\n",
    "\n",
    "Så når vi ganger $f(t)$ med $e^{-i\\omega t}$, så ganges den med en sinus og en kosinus, hvor resultatet av $f(t) \\cdot \\cos(\\omega t)$ blir \"lagret\" i realdelen, og $f(t) \\cdot -\\sin(\\omega t)$ blir \"lagret\" i imaginærdelen.  \n",
    "\n",
    "### Steg 2: Integrering\n",
    "Deretter så integrerer vi resultatet av ganginga over alle mulige verdier av $t$. Intuitivt så kan vi si det slik: **Ved å integrere $f(t) e^{-i\\omega t}$ for alle verider av $t$, så regner vi ut hvor \"mye\" det er av en vinkelfrekvens $\\omega$ i $f(t)$**. \n",
    "\n",
    "Det var det hele! Nå har vi tatt en funksjon fra tidsdomenet til frekvensdomenet. \n",
    "\n",
    "Verdiene vi får ut av Fouriertransformasjonen er komplekse tall. Om vi er nysgerrig på hvor mye av en vinkelfrekvens $\\omega_a$ det er i $f(t)$, så kan vi ta absoluttverdien av $F(\\omega_a)$, og få en tallverdi som sier oss hvor mye det er av den vinkelfrekvensen i $f(t)$. \n",
    "\n",
    "Om vi lurer på hva faseforskyvnigen er til en frekvenskomponent $\\omega_a$ er, så tar vi det som kalles for argumentet til $F(\\omega_a)$: \n",
    "\n",
    "$$\\arg(F(\\omega_a)) = \\arctan(\\frac{\\Im(F(\\omega_a))}{\\Re(F(\\omega_a))})$$\n",
    "\n",
    "Da får vi en verdi i radianer som sier hvor mye den frekvenskomponenten er faseforskyvet med i forhold til en kosinus.\n",
    "\n",
    "### Hvorfor komplekse tall?\n",
    "\n",
    "Man kan lure på hvorfor vi bruker komplekse tall. Svaret er mangfoldig. Det er for eksempel ofte enklere å regne med bruk av komplekse eksponensialer, altså potensregler, enn det er med trigonometriske funksjoner, som sinus og kosinus.\n",
    "\n",
    "En annen grunn er at komplekse tall lar oss veldig enkelt representere faseforskyvningen til en frekvenskomponent. Ta for eksempel funksjonen vår fra kapittel 1: \n",
    "\n",
    "$f(t) = \\sin(2\\pi t)$\n",
    "\n",
    "## Eksempler. \n",
    "\n",
    "La oss ta et par eksempler for å få en bedre forståelse av hva Fouriertransformasjonen gjør. "
   ]
  },
  {
   "cell_type": "markdown",
   "metadata": {},
   "source": []
  },
  {
   "cell_type": "markdown",
   "metadata": {},
   "source": []
  }
 ],
 "metadata": {
  "language_info": {
   "name": "python"
  },
  "orig_nbformat": 4
 },
 "nbformat": 4,
 "nbformat_minor": 2
}
