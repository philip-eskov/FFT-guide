{
 "cells": [
  {
   "cell_type": "markdown",
   "metadata": {},
   "source": [
    "# Del 3: Fouriertransformasjonen"
   ]
  },
  {
   "cell_type": "markdown",
   "metadata": {},
   "source": [
    "I dette kapittelet skal vi se på formelen for Fouriertransformasjonen, og prøve å skaffe oss en intuitiv forståelse av hva den gjør."
   ]
  },
  {
   "cell_type": "markdown",
   "metadata": {},
   "source": [
    "Fouriertransformasjonen er definert slik: \n",
    "\n",
    "$$F(\\omega) = \\int_{-\\infty}^{\\infty} f(t) e^{-i\\omega t} dt$$\n",
    "\n",
    "Hvor $F(\\omega)$ er en funksjon i frekvensdomenet, $f(t)$ er en funksjon i tidsdomenet, og $\\omega$ er vinkelfrekvens. Funksjonen $F(\\omega)$ viser oss hvilke frekvenskomponeneter som inngår i $f(t)$ som en funksjon av vinkelfrekvens, altså frekvensspekret til $f(t)$.\n",
    "\n",
    "\n",
    "Vi kan alternativt skrive Fouriertransformasjonen med frekvens i stedet for vinkelfrekvens:\n",
    "\n",
    "$$F(\\xi) = \\int_{-\\infty}^{\\infty} f(t) e^{- i2\\pi \\xi t} dt$$\n",
    "\n",
    "Hvor vi har tatt oss nytte av at $\\omega = 2\\pi \\xi$, hvor $\\xi$ er frekvens i Hertz (bokstaven $\\xi$ brukes ofte i stedet for $f$ for å ikke forveksle den med funksjonen $f(t)$).\n",
    "\n",
    "Jeg vil nevne at dette er bare to av en absurd mengde med konvensjoner for Fouriertransformasjonen. Avhengig av fagfeltet ditt kan Fouriertransformen bli skrevet med ulike variabler (vinkelfrekvens vs frekvens for eksempel), være ganget med ulike konstanter, osv. Det er viktig å være klar over dette, ettersom det kan fort bli forvirrende å se samme formel skrevet på ulike måter."
   ]
  },
  {
   "cell_type": "markdown",
   "metadata": {},
   "source": [
    "Uansett så er dette formelene som tar en funksjon fra tidsdomenet til frekvensdomenet. De kan virke noe abstrakte og intimiderende, men de er ikke så ille som de ser ut. La oss prøve å forstå hva de gjør.\n",
    "\n",
    "Før vi danner oss en forståelse på hva Fouriertransformasjonen faktisk gjør, er det greit å vite at det er også mulig å gå den andre veien, altså fra frekvensdomenet til tidsdomenet. Denne transformasjonen kalles den inverse Fouriertransformasjonen, og er definert slik:\n",
    "\n",
    "$$f(t) =\\int_{-\\infty}^{\\infty} F(\\xi) e^{i2\\pi \\xi t} d\\xi$$\n",
    "\n",
    "Vi kommer ikke til å gå i dybden i den inverse Fouriertransformasjonen, men det er verdt å vite at den eksisterer."
   ]
  },
  {
   "cell_type": "markdown",
   "metadata": {},
   "source": [
    "## Matten bak Fouriertransformasjonen:\n",
    "\n",
    "La oss nå prøve å danne en intuisjon for hva som skjer når vi tar en funksjon fra tidsdomenet til frekvensdomenet med Fouriertransformasjonen. Fra nå av så kommer vi til å bruke Fouriertransjormasjonen med \"vanlig\" frekvens og ikke vinkelfrekvens, men begge formene er like gyldige.   \n",
    "\n",
    "La oss igjen se på Fouriertransformasjonen:\n",
    "\n",
    "$$F(\\xi) = \\int_{-\\infty}^{\\infty} f(t) e^{-i2\\pi \\xi t} dt$$\n",
    "\n",
    "Her er det to ting som skjer: først tar vi en funksjon $f(t)$ og ganger den med en kompleks eksponensial, $e^{-i 2\\pi \\xi t}$. Deretter integrerer vi resultatet over alle mulige verdier av $t$. Vi har nå fått funksjonen $f(t)$ inn i frekvensdomenet, representert med funksjonen $F(\\xi)$. La oss se på hva som skjer i de to stegene:"
   ]
  },
  {
   "cell_type": "markdown",
   "metadata": {},
   "source": [
    "### Steg 1: Ganging med en kompleks eksponensial\n",
    "Først ganges funksjonen $f(t)$ med en kompleks eksponensial. Minner på at en kompleks eksponensial er definert slik med Euler's formel:\n",
    "\n",
    "$$e^{-i2\\pi \\xi t}  =  \\cos(2\\pi \\xi t) - i\\sin(2\\pi \\xi t)$$\n",
    "\n",
    "Så når vi ganger $f(t)$ med $e^{-i2\\pi \\xi t}$, ganges $f(t)$ med en sinus og en cosinus, hvor resultatet av $f(t) \\cdot \\cos(2\\pi \\xi t)$ blir \"lagret\" i realdelen, og $f(t) \\cdot -\\sin(2\\pi \\xi t)$ blir \"lagret\" i imaginærdelen. \n",
    "\n",
    "### Steg 2: Integrering\n",
    "Deretter integrerer vi resultatet av ganginga over alle mulige verdier av $t$. Kort og intuitivt kan vi si det slik: **Ved å integrere $f(t) e^{-i2\\pi \\xi t}$ for alle verider av $t$, regner vi ut hvor \"mye\" det er av en frekvens $\\xi$ i $f(t)$**. \n",
    "\n",
    "Det var det hele! Nå har vi tatt en funksjon fra tidsdomenet til frekvensdomenet. \n",
    "\n"
   ]
  },
  {
   "cell_type": "markdown",
   "metadata": {},
   "source": [
    "## Hva får vi ut av Fouriertransformasjonen?\n",
    "\n",
    "Vi har nå representert en funksjon $f(t)$ i frekvensdomenet med $F(\\xi)$. Med andre ord så har vi representert funksjonen $f(t)$ som en sum av frekvenskomponenter, altså en sum av sinuser og kosinuser, hvor hver frekvenskomponent har en amplitude, frekvens og en faseforskyvning.\n",
    "\n",
    "**Om vi får en **endelig** eller **uendelg** antall frekvenskomponenter** spørs på $f(t)$. Om $f(t)$ er en **periodisk** funksjon, så vil vi få en **endelig** mengde frekvenskomponenter. Om $f(t)$ er en **aperiodisk** funksjon, så vil vi få en **uendelig** mengde frekvenskomponenter.\n",
    "\n",
    "Vi finner amplituden og fasen til frekvenskomponentene slik: "
   ]
  },
  {
   "cell_type": "markdown",
   "metadata": {},
   "source": [
    "## Amplituden og faseforskyvningen til frekvenskomponentene\n",
    "\n",
    "Om vi er nysgerrig på amplituden av en frekvenskomponent med frekvens $\\xi_a$, tar vi absoluttverdien til $F(\\xi_a)$:\n",
    "$$|F(\\xi_a)| = \\sqrt{(\\Re(F(\\xi_a)))^2 + (\\Im (F(\\xi_a)))^2}$$\n",
    "\n",
    "Hvor $\\Re$ og $\\Im$ representerer henholdsvis real- og imaginærdelen.\n",
    "\n",
    "Om vi ønsker å finne faseforskyvnigen til en frekvenskomponent med frekvens $\\xi_a$, tar vi det som kalles for argumentet til $F(\\xi_a)$: \n",
    "\n",
    "$$\\arg(F(\\xi_a)) = \\arctan\\left(\\frac{\\Im(F(\\xi_a))}{\\Re(F(\\xi_a))}\\right)$$\n",
    "\n",
    "Da får vi faseforskyvningen til den frekvenskomponenten i radianer i forhold til en cosinusfunksjon.$^1$"
   ]
  },
  {
   "cell_type": "markdown",
   "metadata": {},
   "source": [
    "## Eksempel: Absoluttverdien til Fouriertransformasjonen av en sinusbølge\n",
    "\n",
    "La oss betrakte den samme sinusbølgen som den i starten av forrige kapittel, altså en med amplitude 1 og frekvens 1 Hz:\n",
    "\n",
    "$$f(t) = \\sin(2\\pi t)$$\n",
    "\n",
    "Vi ønsker å se på amplituden av dens frekvenskomponenter, altså absoluttverdien av dens Fouriertransformasjon. Ettersom dette er en veileder til å implementere Fouriertransformasjonen i Python, kommer vi ikke til å gå i dybeden på hvordan man regner med Fouriertransformasjonen analytisk. Vi ser heller på svaret rett fram og får oss i det som er nyttig å ha i bakhodet. \n",
    "\n",
    "Absoluttverdien til Fouriertransformasjonen av en sinusbølge ser sånn ut når vi plotter den mot frekvens:\n",
    "\n",
    "<center><img src = \"plots/p3_signal_1_FFTactual.png\" width = \"400px\"></center>\n",
    "\n",
    "Altså to stolper med frekvens -1 og 1 Hz, og amplitude 0.5. \n",
    "Dette stemmer ikke helt med frekvensspektret vi så i forrige kapittel. Da var frekvensspektret: \n",
    "\n",
    "<center><img src = \"plots/p3_signal_1_FFTfake.png\" width = \"400px\"></center>\n",
    "\n",
    "Altså kun én stolpe på 1 Hz med amplitude 1. \n",
    "\n",
    "Ved første glans så kan dette virke forvirrende. En sinuskurve har jo bare en frekvens, så hvorfor får vi to frekvenskomponenter som har en verdi som er halvparten av amplituden til sinusen? Og hvorfor er én av de negative, og hva er egentlig en negativ frekvens? Vi skal bruke resten av kapittelet til å svare på disse spørsmålene.\n"
   ]
  },
  {
   "cell_type": "markdown",
   "metadata": {},
   "source": [
    "## Hva er negative frekvenser, og hvorfor oppstår de?\n",
    "\n",
    "Når vi representerer en funksjon i frekvensdomenet, ser vi på hvilke frekvenser funksjonen inneholder. Det skal sies at Fouriertransformasjonen representerer en funksjon med frekvenskomponenter med både positiv frekvens og *negativ* frekvens:\n",
    "\n",
    "Negativ frekvens er ved første glans et lite intuitiv konsept. Frekvens er jo hvor mye noe skjer per sekund, så det virker rart å sette et fortegn på det. Kort fortalt sier fortegnet til frekvensen noe om hvilken retning noe går i. Hvis vi forestiller oss en vektor i polarkordinater som beveger seg rundt enhetssirkelen med en viss frekvens, kommer den til å bevege seg mot klokka hvis frekvensen er positiv, og med klokka hvis frekvensen er negativ. \n",
    "\n",
    "Ikke føl deg nedenfor hvis du ikke skjønner negative frekvenser. Negative frekvenser er noe som har et nokså tungt matematisk grunnlag, noe som er utenfor rammene for denne ressursen.\n",
    "\n",
    "Heldigvis trenger vi ikke å bry oss om negative frekvenser, **så lenge funksjonen vi transformerer er reell og ikke kompleks.** Da kommer de negative frekvenskomponetene til å inneholde akkurat samme informasjon om frekvensinnholdet til funksjonen som de med positiv frekvens, og vi kan dermed fullstendig ignorere frekvenskomponentene med negativ frekvens. Grafisk så ser frekvensspektret ut som en speiling av de positive frekvenskomponentene langs y-aksen. Om funksjonen vi transformerer er derimot kompleks, inneholder de negative frekvenskomponentene annen informasjon enn de positive komponentene, og vi kan dermed ikke ignorere de. "
   ]
  },
  {
   "cell_type": "markdown",
   "metadata": {},
   "source": [
    "## Hvorfor er amplituden til frekvenskomponentene halvparten av amplituden til signalet?\n",
    "\n",
    "Dette er en følge av noe som kalles for Parseval's teorem. Parseval's teorem sier at **energien til et signal i tidsdomenet må være lik energien til signalet i frekvensdomenet.**\n",
    "\n",
    "Siden Fouriertransformasjonen i utgangspunktet representerer en funksjon med både positive og negative frekvenskomponenter, så kommer energien fra signalet i tidsdomenet til å bli fordelt på både positive og negative frekvenskomponenter. Dermed, når vi transformerer en reell funksjon (altså de negative frekvenskomponentene inneholder samme informasjon som de positive) blir energien fordelt likt mellom de positive og negative frekvenskomponentene. Dermed blir amplituden til de positive og negative frekvenskomponentene halvparten av amplituden til frekvensene i tidsdomenet."
   ]
  },
  {
   "cell_type": "markdown",
   "metadata": {},
   "source": [
    "## Kan jeg ignorere negative frekvenskomponenter og gange amplituden til de positive frekvenskomponentene med 2? \n",
    "\n",
    "Ja, men kun om funksjonen du transformerer er reell. Om du går tilbake til forrige eksempel og gjør akkurat det så får du et frekvensspekter med én frekvenskomponent med frekvens på 1 Hz og amplitde lik 1, noe som representerer frekvensinnholdet til sinusen på en langt mer intutiv måte enn to frekvenskomponenter med en amplitude på 0.5.\n",
    "\n",
    "Som sagt tidligere, du kan **kun** gjøre dette om funksjonen du transformerer er reell og **ikke** kompleks. Om funksjonen er kompleks, inneholder de negative frekvenskomponentene annen informasjon enn de positive, og du kan dermed ikke ignorere de. "
   ]
  },
  {
   "cell_type": "markdown",
   "metadata": {},
   "source": [
    "*1. Dette er teknisk sett en konvensjon, så vær obs på at det er mulig å betrakte faseforskyvningen med hensyn til en sinusfunksjon i stedet for en cosinusfunksjon. Allikevel er det såpass vanlig bruke cosinusfunksjonen at det er så og si standard. Men uansett, det er viktig å være klar over dette.*"
   ]
  }
 ],
 "metadata": {
  "kernelspec": {
   "display_name": "Python 3",
   "language": "python",
   "name": "python3"
  },
  "language_info": {
   "name": "python",
   "version": "3.9.6"
  },
  "orig_nbformat": 4
 },
 "nbformat": 4,
 "nbformat_minor": 2
}
