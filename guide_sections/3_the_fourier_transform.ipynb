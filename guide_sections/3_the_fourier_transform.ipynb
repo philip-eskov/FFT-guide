{
 "cells": [
  {
   "cell_type": "markdown",
   "metadata": {},
   "source": [
    "# Del 2: Fouriertransformasjonen"
   ]
  },
  {
   "cell_type": "markdown",
   "metadata": {},
   "source": [
    "Fouriertransformasjonen er definert slik: \n",
    "\n",
    "$$F(\\omega) = \\int_{-\\infty}^{\\infty} f(t) e^{-i\\omega t} dt$$\n",
    "\n",
    "Hvor $f(t)$ er en funksjon i tidsdomenet, $F(\\omega)$ er samme funksjon men i frekvensdomenet, og $\\omega$ er vinkelfrekvens. Vi kan alternativt skrive Fouriertransformasjonen med frekvens i stedet for vinkelfrekvens:\n",
    "\n",
    "$$F(\\xi) = \\int_{-\\infty}^{\\infty} f(t) e^{- i2\\pi \\xi t} dt$$\n",
    "\n",
    "Hvor vi har tatt oss nytte av at $\\omega = 2\\pi \\xi$, hvor $\\xi$ er frekvens i Hertz (bokstaven $\\xi$ brukes ofte i stedet for $f$ for å ikke forveksle den med funksjonen $f(t)$).\n",
    "\n",
    "Jeg vil nevne at dette er bare to av en absurd mengde med konvensjoner for Fouriertransformasjonen. Alle de gjør i bunn og grunn det samme, men avhengig om du spør en matematiker, fysiker, eller ingeniør (ingeniører spesielt har en tendens til å være litt Texas når det kommer til konvensjoner), så kan Fouriertransformen bli skrevet med ulike variabler (vinkelfrekvens vs frekvens for eksempel), være ganget med ulike konstanter, osv. Det er viktig å være klar over dette, ettersom ulike fagfelt bruker ulike konvensjoner, og det kan fort bli forvirrende å se samme formel skrevet på ulike måter."
   ]
  },
  {
   "cell_type": "markdown",
   "metadata": {},
   "source": [
    "Uansett så er dette formelene som jeg snakket om i slutten av forrige kapittel, altså det som tar en funksjon fra tidsdomenet til frekvensdomenet. \n",
    "Disse formelene kan virke noe abstrakte og intimiderende, men de er ikke så ille som de ser ut. Med tanke på at de tar en funksjon fra og til to helt ulike representasjoner, så er de overasskende kompakte!\n",
    "\n",
    "Før jeg forklarer hva Fouriertransformasjonen faktisk gjør, er det greit å vite at det er også mulig å gå den andre veien, altså fra frekvensdomenet til tidsdomenet. Denne transformasjonen kalles den inverse Fouriertransformasjonen, og er definert slik:\n",
    "\n",
    "$$f(t) =\\int_{-\\infty}^{\\infty} F(\\xi) e^{i2\\pi \\xi t} d\\xi$$\n",
    "\n",
    "Jeg kommer ikke til å gå i dybden i den inverse Fouriertransformasjonen, men det er verdt å vite at den eksisterer."
   ]
  },
  {
   "cell_type": "markdown",
   "metadata": {},
   "source": [
    "## Matten bak Fouriertransformasjonen:\n",
    "\n",
    "La oss nå prøve å få en intuisjon på hva som skjer når vi tar en funksjon fra tidsdomenet til frekvensdomenet med Fouriertransformasjonen. Fra nå av så kommer jeg til å bare betrakte Fouriertransjormasjonen med \"vanlig\" frekvens og ikke vinkelfrekvens, men begge formene er like gyldige.   \n",
    "\n",
    "La oss igjen se på Fouriertransformasjonen:\n",
    "\n",
    "$$F(\\xi) = \\int_{-\\infty}^{\\infty} f(t) e^{-i2\\pi \\xi t} dt$$\n",
    "\n",
    "Hvis vi skal beskrive det som skjer med ord, så tar vi en funksjon $f(t)$ som befinner seg i tidsdomenet og ganger den med en kompleks eksponensial, $e^{-i 2\\pi \\xi t}$. Deretter så integrerer vi resultatet over alle mulige verdier av $t$. Vi har nå fått funksjonen $f(t)$ inn i frekvensdomenet, representert med $F(\\xi)$.\n",
    "\n",
    "La oss da se på hva de to delene av formelen, nemlig ganginga og integegreringa, gjør:\n",
    "\n",
    "### Steg 1: Ganging med en kompleks eksponensial\n",
    "Først ganges funksjonen $f(t)$ med en kompleks eksponensial. Minner på at en kompleks eksponensial er definert slik med Euler's formel:\n",
    "\n",
    "$$e^{-i2\\pi \\xi t}  =  \\cos(2\\pi \\xi t) - i\\sin(2\\pi \\xi t)$$\n",
    "\n",
    "Så når vi ganger $f(t)$ med $e^{-i2\\pi \\xi t}$, så ganges den med en sinus og en kosinus, hvor resultatet av $f(t) \\cdot \\cos(2\\pi \\xi t)$ blir \"lagret\" i realdelen, og $f(t) \\cdot -\\sin(2\\pi \\xi t)$ blir \"lagret\" i imaginærdelen.  \n",
    "\n",
    "### Steg 2: Integrering\n",
    "Deretter så integrerer vi resultatet av ganginga over alle mulige verdier av $t$. Kort og intuitivt kan vi si det slik: **Ved å integrere $f(t) e^{-i2\\pi \\xi t}$ for alle verider av $t$, regner vi ut hvor \"mye\" det er av en frekvens $\\xi$ i $f(t)$**. \n",
    "\n",
    "Det var det hele! Nå har vi tatt en funksjon fra tidsdomenet til frekvensdomenet. \n",
    "\n",
    "### Hva får vi ut av Fouriertransformasjonen?\n",
    "\n",
    "Vi har nå representert en funksjon $f(t)$ i frekvensdomenet med $F(\\xi)$. Med andre ord, så har vi representert funksjonen f(t) som en uendelig sum av frekvenskomponenter, hvor hver frekvenskomponent har en amplitude, frekvens og en faseforskyvning. \n",
    "\n",
    "Men hva er en frekvenskomponent, sånn egentlig? I bunn og grunn så er det en harmonisk svingning, med som sagt en viss amplitude, frekvens og faseforskyvning. Vi så jo på det i forrige kappitel, hvor vi sa at en frekvenskomponent er definert som en kosinus. Samtidig vet vi at realdelen til Fouriertransformen er integrallet av en kosinus ganget med $f(t)$, og at imaginærdelen er integrallet av en en sinus ganget med $f(t)$. Vi har da bakt inn både en kosinus og sinus inn i Fouriertransformasjonen, men hvordan får vi en spesifikk frekvenskomponent, altså en kosinus, ut av den?\n",
    "\n",
    "Uten å gå for dypt inn i matematikken, så kan enhver funksjon skrives som en sum av en jevn og en odde funksjon. Minner på at en jevn funksjon er: \n",
    "\n",
    "$$f_{jevn}(t) = f_{jevn}(-t)$$\n",
    "\n",
    "Med andre ord en funksjon som er speilet langs y-aksen. En odde funksjon er:\n",
    "\n",
    "$$f_{odde}(t) = -f_{odde}(-t)$$\n",
    "\n",
    "Så enhver funksjon $f(t) = f_{jevn}(t) + f_{odde}(t)$.\n",
    "\n",
    "Realdelen til Fouriertransformasjonen er da faktisk frekvensdomenet til den jevne delen av funksjonen, og imaginærdelen er frekvensdomenet til den odde delen. Så hvis vi for eksempel tar en funksjon som består kun av en jevn del, kommer dens Fouriertransformasjon kun til å ha en realdel, og imaginærdel lik null. Tilsvarende for en funksjon som kun består av en odde del, kommer dens Fouriertransformasjon kun til å ha en imaginærdel, og en realdel lik null. \n",
    "\n",
    "Uansett om funksjonen i tidsdomenet er jevn, odde, eller en blanding av begge, så vil Fouriertransformasjonen alltid ha både en realdel og en imaginærdel, selv om en av de kan være lik 0. Så uansett hva, så finner vi verdiene til frekvenskomponentene slik: \n",
    "\n",
    "Om vi er nysgerrig på hvor mye av en frekvens $\\xi_a$ det er i $f(t)$, kan vi ta absoluttverdien til $F(\\xi_a)$, $|F(\\xi_a)|$. Da får vi amplituden til frekvenskomponenten med frekvens $\\xi_a$.\n",
    "\n",
    "Om vi lurer på hva faseforskyvnigen er til en frekvenskomponent med frekvens $\\xi_a$, tar vi det som kalles for argumentet til $F(\\xi_a)$: \n",
    "\n",
    "$$\\arg(F(\\xi_a)) = \\arctan(\\frac{\\Im(F(\\xi_a))}{\\Re(F(\\xi_a))})$$\n",
    "\n",
    "Hvor $\\Re$ og $\\Im$ er henholdsvis real- og imaginærdelen.\n",
    "\n",
    "Da får vi faseforskyvningen til den frekvenskomponenten i radianer. \n",
    "\n",
    "### Hvorfor komplekse tall?\n",
    "\n",
    "Man kan lure på hvorfor vi bruker komplekse tall. Svaret er mangfoldig. Det er for eksempel ofte enklere å regne med bruk av komplekse eksponensialer, altså potensregler, enn det er med trigonometriske funksjoner, som sinus og kosinus. Komplekse tall lar oss også lett lagre informasjon om både magnitude og faseforskyvning i samme verdi.\n",
    "\n",
    "## Eksempler. \n",
    "\n",
    "La oss ta et par eksempler for å få en bedre forståelse av hva Fouriertransformasjonen gjør. "
   ]
  },
  {
   "cell_type": "markdown",
   "metadata": {},
   "source": []
  }
 ],
 "metadata": {
  "language_info": {
   "name": "python"
  },
  "orig_nbformat": 4
 },
 "nbformat": 4,
 "nbformat_minor": 2
}
