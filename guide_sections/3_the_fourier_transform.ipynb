{
 "cells": [
  {
   "cell_type": "markdown",
   "metadata": {},
   "source": [
    "# Del 3: Fouriertransformasjonen"
   ]
  },
  {
   "cell_type": "markdown",
   "metadata": {},
   "source": [
    "I denne kapittelet skal vi se på formelen for Fouriertransformasjonen, og prøve å skaffe oss en intuitiv forståelse av hva den gjør."
   ]
  },
  {
   "cell_type": "markdown",
   "metadata": {},
   "source": [
    "Fouriertransformasjonen er definert slik: \n",
    "\n",
    "$$F(\\omega) = \\int_{-\\infty}^{\\infty} f(t) e^{-i\\omega t} dt$$\n",
    "\n",
    "Hvor $f(t)$ er en funksjon av $t$ i tidsdomenet, $F(\\omega)$ er en funksjon av $\\omega$ og er det vi mener når vi sier \"frekvensspektret\", og $\\omega$ er vinkelfrekvens. Funksjonen $F(\\omega)$ viser oss da hvilke frekvenskomponeneter som inngår i $f(t)$ som en funksjon av vinkelfrekvens.\n",
    "\n",
    "\n",
    "Vi kan alternativt skrive Fouriertransformasjonen med frekvens i stedet for vinkelfrekvens:\n",
    "\n",
    "$$F(\\xi) = \\int_{-\\infty}^{\\infty} f(t) e^{- i2\\pi \\xi t} dt$$\n",
    "\n",
    "Hvor vi har tatt oss nytte av at $\\omega = 2\\pi \\xi$, hvor $\\xi$ er frekvens i Hertz (bokstaven $\\xi$ brukes ofte i stedet for $f$ for å ikke forveksle den med funksjonen $f(t)$).\n",
    "\n",
    "Jeg vil nevne at dette er bare to av en absurd mengde med konvensjoner for Fouriertransformasjonen. Avhengig av fagfeltet ditt kan Fouriertransformen bli skrevet med ulike variabler (vinkelfrekvens vs frekvens for eksempel), være ganget med ulike konstanter, osv. Det er viktig å være klar over dette, ettersom ulike fagfelt bruker ulike konvensjoner, og det kan fort bli forvirrende å se samme formel skrevet på ulike måter."
   ]
  },
  {
   "cell_type": "markdown",
   "metadata": {},
   "source": [
    "Uansett så er dette formelene som jeg skrev om i slutten av forrige kapittel, altså det som tar en funksjon fra tidsdomenet til frekvensdomenet. \n",
    "Disse formelene kan virke noe abstrakte og intimiderende, men de er ikke så ille som de ser ut. Med tanke på at de tar en funksjon fra og til to helt ulike representasjoner, så er de overasskende kompakte. \n",
    "\n",
    "Før jeg forklarer hva Fouriertransformasjonen faktisk gjør, er det greit å vite at det er også mulig å gå den andre veien, altså fra frekvensdomenet til tidsdomenet. Denne transformasjonen kalles den inverse Fouriertransformasjonen, og er definert slik:\n",
    "\n",
    "$$f(t) =\\int_{-\\infty}^{\\infty} F(\\xi) e^{i2\\pi \\xi t} d\\xi$$\n",
    "\n",
    "Jeg kommer ikke til å gå i dybden i den inverse Fouriertransformasjonen, men det er verdt å vite at den eksisterer."
   ]
  },
  {
   "cell_type": "markdown",
   "metadata": {},
   "source": [
    "## Matten bak Fouriertransformasjonen:\n",
    "\n",
    "La oss nå prøve å danne en intuisjon for hva som skjer når vi tar en funksjon fra tidsdomenet til frekvensdomenet med Fouriertransformasjonen. Fra nå av så kommer jeg til å bare betrakte Fouriertransjormasjonen med \"vanlig\" frekvens og ikke vinkelfrekvens, men begge formene er like gyldige.   \n",
    "\n",
    "La oss igjen se på Fouriertransformasjonen:\n",
    "\n",
    "$$F(\\xi) = \\int_{-\\infty}^{\\infty} f(t) e^{-i2\\pi \\xi t} dt$$\n",
    "\n",
    "Hvis vi skal beskrive det som skjer med ord, så tar vi en funksjon $f(t)$ som befinner seg i tidsdomenet og ganger den med en kompleks eksponensial, $e^{-i 2\\pi \\xi t}$. Deretter integrerer vi resultatet over alle mulige verdier av $t$. Vi har nå fått funksjonen $f(t)$ inn i frekvensdomenet, representert med funksjonen $F(\\xi)$.\n",
    "\n",
    "La oss da se på hva de to delene av formelen, nemlig ganginga og integreringa, gjør:\n",
    "\n",
    "### Steg 1: Ganging med en kompleks eksponensial\n",
    "Først ganges funksjonen $f(t)$ med en kompleks eksponensial. Minner på at en kompleks eksponensial er definert slik med Euler's formel:\n",
    "\n",
    "$$e^{-i2\\pi \\xi t}  =  \\cos(2\\pi \\xi t) - i\\sin(2\\pi \\xi t)$$\n",
    "\n",
    "Så når vi ganger $f(t)$ med $e^{-i2\\pi \\xi t}$, ganges den med en sinus og en kosinus, hvor resultatet av $f(t) \\cdot \\cos(2\\pi \\xi t)$ blir \"lagret\" i realdelen, og $f(t) \\cdot -\\sin(2\\pi \\xi t)$ blir \"lagret\" i imaginærdelen.  \n",
    "\n",
    "### Steg 2: Integrering\n",
    "Deretter integrerer vi resultatet av ganginga over alle mulige verdier av $t$. Kort og intuitivt kan vi si det slik: **Ved å integrere $f(t) e^{-i2\\pi \\xi t}$ for alle verider av $t$, regner vi ut hvor \"mye\" det er av en frekvens $\\xi$ i $f(t)$**. \n",
    "\n",
    "Det var det hele! Nå har vi tatt en funksjon fra tidsdomenet til frekvensdomenet. \n",
    "\n",
    "## Hva får vi ut av Fouriertransformasjonen?\n",
    "\n",
    "Vi har nå representert en funksjon $f(t)$ i frekvensdomenet med $F(\\xi)$. Med andre ord så har vi representert funksjonen $f(t)$ som en uendelig sum av frekvenskomponenter, altså en uendelig sum av sinuser og kosinuser, hvor hver frekvenskomponent har en amplitude, frekvens og en faseforskyvning. \n",
    "\n",
    "Jeg vil ta en liten digresjon og skrive litt om hva realdelen og imaginærdelen til Fouriertransformasjonen faktisk representerer. Om du ikke bryr deg om det så kan du hoppe over til neste delkapittel.\n",
    "\n",
    "Det er bevist at enhver reell funksjon kan skrives som en sum av en jevn og en odde funksjon. Minner på at en jevn funksjon er: \n",
    "\n",
    "$$f_{jevn}(t) = f_{jevn}(-t)$$\n",
    "\n",
    "Med andre ord en funksjon som er speilet langs y-aksen. \n",
    "\n",
    "En odde funksjon er:\n",
    "\n",
    "$$f_{odde}(t) = -f_{odde}(-t)$$\n",
    "\n",
    "Dette er en funksjon som er speilet langs origo, også kalt en antisymmetrisk funksjon. \n",
    "\n",
    "Så enhver funksjon $f(t)$ kan bli splittet opp i $f_{jevn}(t) + f_{odde}(t)$. Med andre ord kan $f(t)$ bli skrevet som en sum av en eller annen funksjon som er speilet om y-aksen og en funksjon som er antisymmetrisk. \n",
    "\n",
    "Realdelen til Fouriertransformasjonen er faktisk frekvensdomenet til den jevne delen av funksjonen, og imaginærdelen er frekvensdomenet til den odde delen. Så hvis vi tar en funksjon som består kun av en jevn del, kommer dens Fouriertransformasjon kun til å ha en realdel, og imaginærdel lik null. Tilsvarende for en funksjon som kun består av en odde del, kommer dens Fouriertransformasjon kun til å ha en imaginærdel, og en realdel lik null. Eksempler på slike funksjoner er enkle kosinus og sinusfunksjoner: en kosinus kommer til å ha en Fouriertransformasjon med imagniærdel lik null (fordi en kosinus er en jevn funksjon), og en sinus kommer til å ha en Fouriertransformasjon med realdel lik null (fordi en sinus er en odde funksjon).\n",
    "\n",
    "Uansett om funksjonen i tidsdomenet er jevn, odde, eller en blanding av begge, så vil Fouriertransformasjonen alltid teknisk sett ha både en realdel og en imaginærdel, selv om en av de kan være lik 0. Uansett hva tilfellet er, så finner vi verdiene til frekvenskomponentene slik: \n",
    "\n",
    "## Amplituden og faseforskyvningen til frekvenskomponentene\n",
    "\n",
    "Om vi er nysgerrig på hvor \"mye\" av en frekvens $\\xi_a$ det er i $f(t)$, kan vi ta absoluttverdien til $F(\\xi_a)$:\n",
    "$$|F(\\xi_a)| = \\sqrt{(\\Re(F(\\xi_a)))^2 + (\\Im (F(\\xi_a)))^2}$$\n",
    "\n",
    "Hvor $\\Re$ og $\\Im$ er henholdsvis real- og imaginærdelen.\n",
    "Da får vi amplituden til frekvenskomponenten med frekvens $\\xi_a$.\n",
    "\n",
    "Om vi ønsker å finne faseforskyvnigen til en frekvenskomponent med frekvens $\\xi_a$, tar vi det som kalles for argumentet til $F(\\xi_a)$: \n",
    "\n",
    "$$\\arg(F(\\xi_a)) = \\arctan(\\frac{\\Im(F(\\xi_a))}{\\Re(F(\\xi_a))})$$\n",
    "\n",
    "\n",
    "Da får vi faseforskyvningen til den frekvenskomponenten i radianer i forhold til en kosinusfunksjon.\n",
    "\n",
    "## Hvorfor komplekse tall?\n",
    "\n",
    "Man kan lure på hvorfor vi bruker komplekse tall. En kompleks eksponensial er jo bare en kosinus og sinus lagret i henholdsvis real- og imaginærdelen, så om man vil så kan vi la være å bruke komplekse tall og splitte Fouriertransformasjonen i to, og regne ut kosinus- og sinusdelene hver for seg (dette er faktisk hvordan Joseph Fourier regnet ut Fouriertransformasjonen i sin tid). \n",
    "\n",
    "Med dette i mente så kan vi legge merke til en åpenbar fordel med å bruke komplekse tall: vi kan nemlig skrive Fouriertransformasjonen på en mye mer kompakt måte, heller enn å bruke to formler: en for sinusdelen, og en for kosinusdelen. Med komplekse tall så kan vi skrive Fouriertransformasjonen som en enkelt formel, og dermed slippe å skrive to formler. \n",
    "\n",
    "## Negative frekvenser? \n",
    "\n",
    "Når vi representerer en funksjon i frekvensdomenet, så ser vi på hvilke frekvenser funksjonen inneholder. Det skal sies at Fouriertransformasjonen representerer en funksjon med frekvenskomponenter med både positiv frekvens og *negativ* frekvens:\n",
    "\n",
    "Negativ frekvens er ved første glans et lite intuitiv konsept. Frekvens er jo hvor mye noe skjer per sekund, så hvordan kan det være negativt? Kort fortalt så sier fortegnet til frekvensen noe om hvilken retning noe går i. Hvis vi forestiller oss en vektor i polarkordinater som beveger seg rundt enhetssirkelen med en viss frekvens, kommer den til å bevege seg mot klokka hvis frekvensen er positiv, og med klokka hvis frekvensen er negativ. \n",
    "\n",
    "Ikke føl deg nedenfor hvis du ikke skjønner negative frekvenser. Negative frekvenser er noe som har et nokså tungt matematisk grunnlag, og er utenfor rammene for denne ressursen.\n",
    "\n",
    "Heldigvis trenger vi ikke å bry oss om negative frekvenser, **så lenge funksjonen vi transformerer er reell og ikke kompleks.** Da kommer de negative frekvenskomponetene til å inneholde akkurat samme informasjon som de med positiv frekvens, og vi kan dermed fullstendig ignorere frekvenskomponentene med negativ frekvens. Grafisk så ser frekvensspektret ut som en speiling av de positive frekvenskomponentene langs y-aksen. Om funksjonen er derimot kompleks, så inneholder de negative frekvenskomponentene annen informasjon enn de positive komponentene, og vi kan dermed ikke ignorere de. \n",
    "\n",
    "## Eksempler. \n",
    "\n",
    "La oss ta et par eksempler for å få en bedre forståelse av hva Fouriertransformasjonen gjør. "
   ]
  },
  {
   "cell_type": "markdown",
   "metadata": {},
   "source": []
  }
 ],
 "metadata": {
  "language_info": {
   "name": "python"
  },
  "orig_nbformat": 4
 },
 "nbformat": 4,
 "nbformat_minor": 2
}
