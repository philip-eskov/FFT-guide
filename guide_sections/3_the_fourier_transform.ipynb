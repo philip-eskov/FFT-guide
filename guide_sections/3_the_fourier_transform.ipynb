{
 "cells": [
  {
   "cell_type": "markdown",
   "metadata": {},
   "source": [
    "# Del 2: Fouriertransformasjonen"
   ]
  },
  {
   "cell_type": "markdown",
   "metadata": {},
   "source": [
    "Fouriertransformasjonen er definert slik: \n",
    "\n",
    "$$F(\\omega) = \\int_{-\\infty}^{\\infty} f(t) e^{-i\\omega t} dt$$\n",
    "\n",
    "Hvor $f(t)$ er en funksjon i tidsdomenet, $F(\\omega)$ er samme funksjon men i frekvensdomenet, og $\\omega$ er vinkelfrekvens. Vi kan alternativt skrive Fouriertransformasjonen med frekvens i stedet for vinkelfrekvens:\n",
    "\n",
    "$$F(f) = \\int_{-\\infty}^{\\infty} f(t) e^{-2\\pi if t} dt$$\n",
    "\n",
    "Hvor vi har tatt oss nytte av at $\\omega = 2\\pi f$, hvor $f$ er frekvens i Hertz."
   ]
  },
  {
   "cell_type": "markdown",
   "metadata": {},
   "source": [
    "Dette er da formelene som jeg snakket om i slutten av forrige kapittel, altså det som tar en funksjon fra tidsdomenet til frekvensdomenet. \n",
    "Disse formelene kan virke noe abstrakte og intimiderende, men de er ikke så ille som de ser ut. Med tanke på at de tar en funksjon til og fra to helt ulike representasjoner, så er de overasskende kompakte!\n",
    "\n",
    "Før jeg forklarer hva Fouriertransformasjonen faktisk gjør, er det greit å vite at det er også mulig å gå den andre veien, altså fra frekvensdomenet til tidsdomenet. Denne transformasjonen kalles den inverse Fouriertransformasjonen, og er definert slik:\n",
    "\n",
    "$$f(t) = \\frac{1}{2\\pi}\\int_{-\\infty}^{\\infty} F(\\omega) e^{i\\omega t} d\\omega$$\n",
    "\n",
    "Jeg kommer ikke til å gå i dybden i den inverse Fouriertransformasjonen, men det er verdt å vite at den eksisterer."
   ]
  },
  {
   "cell_type": "markdown",
   "metadata": {},
   "source": [
    "## Matten bak Fouriertransformasjonen:\n",
    "\n",
    "La oss nå prøve å få en intuisjon på hva som skjer når vi tar en funksjon fra tidsdomenet til frekvensdomenet med Fouriertransformasjonen. Fra nå av så kommer jeg til å bare betrakte Fouriertransjormasjonen med \"vanlig\" frekvens og ikke vinkelfrekvens, men begge formene er like gyldige.   \n",
    "\n",
    "La oss igjen se på Fouriertransformasjonen:\n",
    "\n",
    "$$F(\\omega) = \\int_{-\\infty}^{\\infty} f(t) e^{-i2\\pi ft} dt$$\n",
    "\n",
    "Hvis vi skal beskrive det som skjer med ord, så tar vi en funksjon $f(t)$ som befinner seg i tidsdomenet og ganger den med en kompleks eksponensial, $e^{-i 2\\pi f t}$. Deretter så integrerer vi resultatet over alle mulige verdier av $t$. Vi har nå fått funksjonen $f(t)$ inn i frekvensdomenet, representert med $F(f)$.\n",
    "\n",
    "La oss da se på hva de to delene av formelen, nemlig ganginga og integegreringa, gjør:\n",
    "\n",
    "### Steg 1: Ganging med en kompleks eksponensial\n",
    "Først så ganges funksjonen $f(t)$ med en kompleks eksponensial. Minner på at en kompleks eksponensial er definert slik med Euler's formel:\n",
    "\n",
    "$$e^{-i2\\pi f t}  =  \\cos(2\\pi f t) - i\\sin(2\\pi f t)$$\n",
    "\n",
    "Så når vi ganger $f(t)$ med $e^{-i2\\pi f t}$, så ganges den med en sinus og en kosinus, hvor resultatet av $f(t) \\cdot \\cos(2\\pi f t)$ blir \"lagret\" i realdelen, og $f(t) \\cdot -\\sin(2\\pi f t)$ blir \"lagret\" i imaginærdelen.  \n",
    "\n",
    "### Steg 2: Integrering\n",
    "Deretter så integrerer vi resultatet av ganginga over alle mulige verdier av $t$. Kort og intuitivt kan vi si det slik: **Ved å integrere $f(t) e^{-i2\\pi f t}$ for alle verider av $t$, regner vi ut hvor \"mye\" det er av en spesifikk frekvens $f$ i $f(t)$**. \n",
    "\n",
    "Det var det hele! Nå har vi tatt en funksjon fra tidsdomenet til frekvensdomenet. \n",
    "\n",
    "### Hva får vi ut av Fouriertransformasjonen?\n",
    "\n",
    "Verdiene vi får ut av Fouriertransformasjonen er komplekse tall. Om vi er nysgerrig på hvor mye av en frekvens $f_a$ det er i $f(t)$, så kan vi ta absoluttverdien til $F(f_a)$, $|F(f_a)|$. Da får vi amplituden til frekvenskomponenten med frekvens $f_a$.\n",
    "\n",
    "Om vi lurer på hva faseforskyvnigen er til en frekvenskomponent med frekvens $f_a$, så tar vi det som kalles for argumentet til $F(f_a)$: \n",
    "\n",
    "$$\\arg(F(f_a)) = \\arctan(\\frac{\\Im(F(f_a))}{\\Re(F(f_a))})$$\n",
    "\n",
    "Da får vi en verdi i radianer som sier hvor mye den frekvenskomponenten er faseforskyvet med i forhold til en kosinus.\n",
    "\n",
    "### Hvorfor komplekse tall?\n",
    "\n",
    "Man kan lure på hvorfor vi bruker komplekse tall. Svaret er mangfoldig. Det er for eksempel ofte enklere å regne med bruk av komplekse eksponensialer, altså potensregler, enn det er med trigonometriske funksjoner, som sinus og kosinus. Komplekse tall lar oss også lett lagre informasjon om både magnitude og faseforskyvning i samme verdi. \n",
    "\n",
    "## Eksempler. \n",
    "\n",
    "La oss ta et par eksempler for å få en bedre forståelse av hva Fouriertransformasjonen gjør. "
   ]
  },
  {
   "cell_type": "markdown",
   "metadata": {},
   "source": []
  },
  {
   "cell_type": "markdown",
   "metadata": {},
   "source": []
  }
 ],
 "metadata": {
  "language_info": {
   "name": "python"
  },
  "orig_nbformat": 4
 },
 "nbformat": 4,
 "nbformat_minor": 2
}
