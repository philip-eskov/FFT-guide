{
 "cells": [
  {
   "cell_type": "markdown",
   "metadata": {},
   "source": [
    "# Del 3: Fouriertransformasjonen"
   ]
  },
  {
   "cell_type": "markdown",
   "metadata": {},
   "source": [
    "I dette kapittelet skal vi se på formelen for Fouriertransformasjonen, og prøve å skaffe oss en intuitiv forståelse av hva den gjør."
   ]
  },
  {
   "cell_type": "markdown",
   "metadata": {},
   "source": [
    "Fouriertransformasjonen er definert slik: \n",
    "\n",
    "$$F(\\omega) = \\int_{-\\infty}^{\\infty} f(t) e^{-i\\omega t} dt$$\n",
    "\n",
    "Hvor $F(\\omega)$ er en funksjon i frekvensdomenet og er det vi mener når vi sier \"frekvensspektret\", $f(t)$ er en funksjon i tidsdomenet, og $\\omega$ er vinkelfrekvens. Funksjonen $F(\\omega)$ viser oss hvilke frekvenskomponeneter som inngår i $f(t)$ som en funksjon av vinkelfrekvens.\n",
    "\n",
    "\n",
    "Vi kan alternativt skrive Fouriertransformasjonen med frekvens i stedet for vinkelfrekvens:\n",
    "\n",
    "$$F(\\xi) = \\int_{-\\infty}^{\\infty} f(t) e^{- i2\\pi \\xi t} dt$$\n",
    "\n",
    "Hvor vi har tatt oss nytte av at $\\omega = 2\\pi \\xi$, hvor $\\xi$ er frekvens i Hertz (bokstaven $\\xi$ brukes ofte i stedet for $f$ for å ikke forveksle den med funksjonen $f(t)$).\n",
    "\n",
    "Jeg vil nevne at dette er bare to av en absurd mengde med konvensjoner for Fouriertransformasjonen. Avhengig av fagfeltet ditt kan Fouriertransformen bli skrevet med ulike variabler (vinkelfrekvens vs frekvens for eksempel), være ganget med ulike konstanter, osv. Det er viktig å være klar over dette, ettersom ulike fagfelt bruker ulike konvensjoner, og det kan fort bli forvirrende å se samme formel skrevet på ulike måter."
   ]
  },
  {
   "cell_type": "markdown",
   "metadata": {},
   "source": [
    "Uansett så er dette formelene som tar en funksjon fra tidsdomenet til frekvensdomenet. De kan virke noe abstrakte og intimiderende, men de er ikke så ille som de ser ut. La oss prøve å forstå hva de gjør.\n",
    "\n",
    "Før jeg forklarer hva Fouriertransformasjonen faktisk gjør, er det greit å vite at det er også mulig å gå den andre veien, altså fra frekvensdomenet til tidsdomenet. Denne transformasjonen kalles den inverse Fouriertransformasjonen, og er definert slik:\n",
    "\n",
    "$$f(t) =\\int_{-\\infty}^{\\infty} F(\\xi) e^{i2\\pi \\xi t} d\\xi$$\n",
    "\n",
    "Jeg kommer ikke til å gå i dybden i den inverse Fouriertransformasjonen, men det er verdt å vite at den eksisterer."
   ]
  },
  {
   "cell_type": "markdown",
   "metadata": {},
   "source": [
    "## Matten bak Fouriertransformasjonen:\n",
    "\n",
    "La oss nå prøve å danne en intuisjon for hva som skjer når vi tar en funksjon fra tidsdomenet til frekvensdomenet med Fouriertransformasjonen. Fra nå av så kommer jeg til å bruke Fouriertransjormasjonen med \"vanlig\" frekvens og ikke vinkelfrekvens, men begge formene er like gyldige.   \n",
    "\n",
    "La oss igjen se på Fouriertransformasjonen:\n",
    "\n",
    "$$F(\\xi) = \\int_{-\\infty}^{\\infty} f(t) e^{-i2\\pi \\xi t} dt$$\n",
    "\n",
    "Hvis vi skal beskrive formelen med ord, tar vi en funksjon $f(t)$ og ganger den med en kompleks eksponensial, $e^{-i 2\\pi \\xi t}$. Deretter integrerer vi resultatet over alle mulige verdier av $t$. Vi har nå fått funksjonen $f(t)$ inn i frekvensdomenet, representert med funksjonen $F(\\xi)$. Jeg liker å se på dette som en todelt prosess. La oss se på hva som skjer i de to stegene:"
   ]
  },
  {
   "cell_type": "markdown",
   "metadata": {},
   "source": [
    "### Steg 1: Ganging med en kompleks eksponensial\n",
    "Først ganges funksjonen $f(t)$ med en kompleks eksponensial. Minner på at en kompleks eksponensial er definert slik med Euler's formel:\n",
    "\n",
    "$$e^{-i2\\pi \\xi t}  =  \\cos(2\\pi \\xi t) - i\\sin(2\\pi \\xi t)$$\n",
    "\n",
    "Så når vi ganger $f(t)$ med $e^{-i2\\pi \\xi t}$, ganges den med en sinus og en kosinus, hvor resultatet av $f(t) \\cdot \\cos(2\\pi \\xi t)$ blir \"lagret\" i realdelen, og $f(t) \\cdot -\\sin(2\\pi \\xi t)$ blir \"lagret\" i imaginærdelen. (Minustegnet i $e^{-i2\\pi\\xi t}$ er en konvensjon).\n",
    "\n",
    "### Steg 2: Integrering\n",
    "Deretter integrerer vi resultatet av ganginga over alle mulige verdier av $t$. Kort og intuitivt kan vi si det slik: **Ved å integrere $f(t) e^{-i2\\pi \\xi t}$ for alle verider av $t$, regner vi ut hvor \"mye\" det er av en frekvens $\\xi$ i $f(t)$**. \n",
    "\n",
    "Det var det hele! Nå har vi tatt en funksjon fra tidsdomenet til frekvensdomenet. \n",
    "\n"
   ]
  },
  {
   "cell_type": "markdown",
   "metadata": {},
   "source": [
    "## Hva får vi ut av Fouriertransformasjonen, og hva er en frekvenskomponent?\n",
    "\n",
    "Vi har nå representert en funksjon $f(t)$ i frekvensdomenet med $F(\\xi)$. Med andre ord så har vi representert funksjonen $f(t)$ som en uendelig sum av frekvenskomponenter, altså en uendelig sum av sinuser og kosinuser, hvor hver frekvenskomponent har en amplitude, frekvens og en faseforskyvning. Vi finner verdiene til frekvenskomponentene slik: "
   ]
  },
  {
   "cell_type": "markdown",
   "metadata": {},
   "source": [
    "## Amplituden og faseforskyvningen til frekvenskomponentene\n",
    "\n",
    "Om vi er nysgerrig på amplituden av en frekvenskomponent med frekvens $\\xi_a$, tar vi absoluttverdien til $F(\\xi_a)$:\n",
    "$$|F(\\xi_a)| = \\sqrt{(\\Re(F(\\xi_a)))^2 + (\\Im (F(\\xi_a)))^2}$$\n",
    "\n",
    "Hvor $\\Re$ og $\\Im$ er henholdsvis real- og imaginærdelen.\n",
    "\n",
    "Om vi ønsker å finne faseforskyvnigen til en frekvenskomponent med frekvens $\\xi_a$, tar vi det som kalles for argumentet til $F(\\xi_a)$: \n",
    "\n",
    "$$\\arg(F(\\xi_a)) = \\arctan(\\frac{\\Im(F(\\xi_a))}{\\Re(F(\\xi_a))})$$\n",
    "\n",
    "Da får vi faseforskyvningen til den frekvenskomponenten i radianer i forhold til en kosinusfunksjon.$^1$"
   ]
  },
  {
   "cell_type": "markdown",
   "metadata": {},
   "source": [
    "## Negative frekvenser og når vi kan ignorere dem\n",
    "\n",
    "Når vi representerer en funksjon i frekvensdomenet, ser vi på hvilke frekvenser funksjonen inneholder. Det skal sies at Fouriertransformasjonen representerer en funksjon med frekvenskomponenter med både positiv frekvens og *negativ* frekvens:\n",
    "\n",
    "Negativ frekvens er ved første glans et lite intuitiv konsept. Frekvens er jo hvor mye noe skjer per sekund, så det virker rart å sette et fortegn på det. Kort fortalt sier fortegnet til frekvensen noe om hvilken retning noe går i. Hvis vi forestiller oss en vektor i polarkordinater som beveger seg rundt enhetssirkelen med en viss frekvens, kommer den til å bevege seg mot klokka hvis frekvensen er positiv, og med klokka hvis frekvensen er negativ. \n",
    "\n",
    "Ikke føl deg nedenfor hvis du ikke skjønner negative frekvenser. Negative frekvenser er noe som har et nokså tungt matematisk grunnlag, og er utenfor rammene for denne ressursen.\n",
    "\n",
    "Heldigvis trenger vi ikke å bry oss om negative frekvenser, **så lenge funksjonen vi transformerer er reell og ikke kompleks.** Da kommer de negative frekvenskomponetene til å inneholde akkurat samme informasjon som de med positiv frekvens, og vi kan dermed fullstendig ignorere frekvenskomponentene med negativ frekvens. Grafisk så ser frekvensspektret ut som en speiling av de positive frekvenskomponentene langs y-aksen. Om funksjonen vi transformerer er derimot kompleks, inneholder de negative frekvenskomponentene annen informasjon enn de positive komponentene, og vi kan dermed ikke ignorere de. \n",
    "\n",
    "## Hvorfor komplekse tall?\n",
    "\n",
    "Man kan lure på hvorfor vi bruker komplekse tall. En kompleks eksponensial er jo bare en kosinus og sinus lagret i henholdsvis real- og imaginærdelen, så om man vil så kan vi la være å bruke komplekse tall og splitte Fouriertransformasjonen i to, og regne ut kosinus- og sinusdelene hver for seg (dette er faktisk hvordan Joseph Fourier regnet ut Fouriertransformasjonen i sin tid). \n",
    "\n",
    "Med dette i mente så kan vi legge merke til en åpenbar fordel med å bruke komplekse tall: vi kan nemlig skrive Fouriertransformasjonen på en mye mer kompakt måte, heller enn å bruke to formler: en for sinusdelen, og en for kosinusdelen. Med komplekse tall så kan vi skrive Fouriertransformasjonen som en enkelt formel, og dermed slippe å skrive to formler. "
   ]
  },
  {
   "cell_type": "markdown",
   "metadata": {},
   "source": [
    "## Litt om real- og imaginærdelen til Fouriertransformasjonen og hva de representerer\n",
    "\n",
    "Jeg vil ta en liten digresjon og skrive litt om hva realdelen og imaginærdelen til Fouriertransformasjonen faktisk representerer. Om du ikke bryr deg om dette så kan du hoppe over dette avsnittet. \n",
    "\n",
    "Det er bevist at enhver reell funksjon kan skrives som en sum av en jevn og en odde funksjon. Minner på at en jevn funksjon er: \n",
    "\n",
    "$$f_{jevn}(t) = f_{jevn}(-t)$$\n",
    "\n",
    "Med andre ord en funksjon som er speilet langs y-aksen. \n",
    "\n",
    "En odde funksjon er:\n",
    "\n",
    "$$f_{odde}(t) = -f_{odde}(-t)$$\n",
    "\n",
    "Dette er en funksjon som er speilet langs origo, også kalt en antisymmetrisk funksjon. \n",
    "\n",
    "Så enhver funksjon $f(t)$ kan bli splittet opp i $f_{jevn}(t) + f_{odde}(t)$. Med andre ord kan $f(t)$ bli skrevet som en sum av en eller annen funksjon som er speilet om y-aksen og en funksjon som er antisymmetrisk. \n",
    "\n",
    "Realdelen til Fouriertransformasjonen er faktisk frekvensdomenet til den jevne delen av funksjonen, og imaginærdelen er frekvensdomenet til den odde delen. Så hvis vi tar Fouriertransformasjonen av en helt jevn funksjon, kommer den frekvensspekter til å kun ha en realdel, med imaginærdel lik null. Det motsatte gjelder en funksjon som er helt odde: dens frekvensspekter kommer til å være imaginær, med realdel lik 0. Eksempler på slike funksjoner er enkle kosinus og sinusfunksjoner: en kosinus kommer til å ha en Fouriertransformasjon med imagniærdel lik null (fordi en kosinus er en jevn funksjon), og en sinus kommer til å ha en Fouriertransformasjon med realdel lik null (fordi en sinus er en odde funksjon). "
   ]
  },
  {
   "cell_type": "markdown",
   "metadata": {},
   "source": [
    "*1. Dette er teknisk sett en konvensjon, så vær obs på at det er mulig å betrakte faseforskyvningen med hensyn til en sinusfunksjon i stedet for en kosinusfunksjon. Allikevel er det såpass vanlig bruke kosinusfunksjonen at det er så og si standard. Og til og med da, om du tar et innførende emne i Fouiertransformasjonen og du blir spurt om å finne faseforskyvningen til en frekvenskomponent, så er det mest sannsynligvis tilstrekkelig å regne ut argumentet til Fouriertransformasjonen rett fram uten å uten å tenke på hva faseforskyvningen er med hensyn til. Uansett så fraskriver jeg meg alt ansvar om du får en dårlig karakter fordi du brukte feil konvensjon.*"
   ]
  },
  {
   "cell_type": "markdown",
   "metadata": {},
   "source": []
  }
 ],
 "metadata": {
  "language_info": {
   "name": "python"
  },
  "orig_nbformat": 4
 },
 "nbformat": 4,
 "nbformat_minor": 2
}
