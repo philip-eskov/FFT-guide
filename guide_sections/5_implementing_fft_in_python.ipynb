{
 "cells": [
  {
   "cell_type": "markdown",
   "metadata": {},
   "source": [
    "# Del 5: frekvensanalyse i Python"
   ]
  },
  {
   "cell_type": "markdown",
   "metadata": {},
   "source": [
    "Denne delen handler om å anvende teorien fra de forrige delene i praksis. Jeg kommer til å bruke Python, men dette kan også gjøres i andre programmeringsspråk, eksempelvis MATLAB eller R. \n",
    "\n",
    "Vi starter med å laste inn noen biblioteker som vi kommer til å bruke:"
   ]
  },
  {
   "cell_type": "markdown",
   "metadata": {},
   "source": [
    "```python\n",
    "import numpy as np\n",
    "import scipy as sp\n",
    "import matplotlib.pyplot as plt\n",
    "```"
   ]
  },
  {
   "cell_type": "markdown",
   "metadata": {},
   "source": [
    "SciPy er en samling av biblioteker for vitenskapelig programmering i Python. Vi kommer til å bruke funksjoner fra 'scipy.fft' for å utføre fouriertransformasjonen. 'scipy.signal' inneholder også mange nyttige funksjoner for signalbehandling, som for eksempel filtre eller vindusfunksjoner, men de er utenfor omfanget av denne ressursen. \n",
    "\n",
    "Jeg regner med at du er allerede kjent med numpy og matplotlib. Hvis ikke, kan du lese mer om dem [her](https://numpy.org/) og [her](https://matplotlib.org/). Vi bruker numpy for å representere dataene våre som numpy arrays, og matplotlib for å plotte dem. Det skal også sies at Numpy har en egen FFT funksjon, men jeg mener at SciPy sin er rett og slett bedre."
   ]
  },
  {
   "cell_type": "markdown",
   "metadata": {},
   "source": [
    "Hvis du skal gjennomføre fouriertransformasjonen på et eksisterende datasett som ligger i en fil, kan Pandas biblioteket være nyttig for å lese inn dataene:\n",
    "\n",
    "```python\n",
    "import pandas as pd\n",
    "```\n",
    "\n",
    "Du kan lese mer om Pandas [her](https://pandas.pydata.org/). "
   ]
  },
  {
   "cell_type": "markdown",
   "metadata": {},
   "source": [
    "La oss nå ta for oss en tidsserie som vi ønsker å utføre fouriertransformasjonen på. Tidsserien har allerede blitt lest inn og lagret som en numpy array som heter 'data'. Å ta selve fouriertransformasjonen er veldig enkelt:\n",
    "\n",
    "```python \n",
    "fouriertransformert_data = sp.fft.fft(data) # Utfører fouriertransformasjonen\n",
    "```\n",
    "*Merknad: vi skriver fft to ganger fordi vi henter en funksjon som heter fft() fra en pakke som heter fft, som da ligger i scipy.*"
   ]
  },
  {
   "cell_type": "markdown",
   "metadata": {},
   "source": [
    "fouriertransformert_data er nå en numpy array som inneholder resultatet av fouriertransformasjonen. Den har samme lengde som data, og hvert element i fouriertransformert_data er en kompleks verdi.\n",
    "\n",
    "Nå som vi har utført fouriertransformasjonen, kan vi plotte resultatet. Vi ønsker å plotte frekvensene på x-aksen, og amplitudene på y-aksen.\n",
    "Vi må først lage en array som tilsvarer frekvensene. Dette kan vi gjøre med funksjonen fftfreq() fra scipy.fft:\n",
    "\n",
    "```python\n",
    "frekvenser = sp.fft.fftfreq(len(data)) # Lager en array med frekvensene\n",
    "```"
   ]
  },
  {
   "cell_type": "markdown",
   "metadata": {},
   "source": []
  }
 ],
 "metadata": {
  "language_info": {
   "name": "python"
  },
  "orig_nbformat": 4
 },
 "nbformat": 4,
 "nbformat_minor": 2
}
