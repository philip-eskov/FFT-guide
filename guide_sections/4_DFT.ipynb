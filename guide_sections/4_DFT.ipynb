{
 "cells": [
  {
   "cell_type": "markdown",
   "metadata": {},
   "source": [
    "# Del 3: Sampling og den diskrete Fouriertransformasjonen\n",
    "\n",
    "I denne delen så kommer jeg til å introdusere den diskrete Fouriertransformasjonen. Fouriertransformasjonen som vi har hittil sett på er det som kalles for den kontinuerlige Fouriertransformasjonen, som er definert for kontinuerlige funksjoner. Dette skaper da problemer når vi skal implementere Fouriertransformen på en datamaskin. Datamaskiner kan kun gjennomføre regneoperasjoner på diskrete verider, og derfor må vi ha en diskret versjon av Fouriertransformasjonen som gir en diskret resultat.\n",
    "\n",
    "Den diskrete Fouriertransformasjonen, eller DFT er definert som følger:\n",
    "\n",
    "$$X(k) = \\sum_{n=0}^{N - 1} x(n)e^{-i\\frac{2\\pi nk}{N}}$$\n",
    "\n",
    "Hvor $x(n)$ er en diskret funksjon, altså en tallrekke (ofte representert som en array i Python), og $X(k)$ er den diskrete Fouriertransformasjonen av $x(n)$. $N$ er antall punkter i $x(n)$, og $k$ er den k-te frekvensen i  $X(k)$. "
   ]
  },
  {
   "cell_type": "markdown",
   "metadata": {},
   "source": [
    "Prinsippet til DFT-en er da akkurat den samme som med den kontinuerlige Fouriertransformasjonen: vi tar en eller annen funksjon som befinner seg i tidsdomenet, og transformerer den til frekvensdomenet. Allikevel så er det noen nyanser med DFT-en som vi må være klar over. For at vi skal kunne forstå oss på disse nyansene, så må vi først se på hvordan man diskretiserer en kontinuerlig funksjon, også kalt sampling:"
   ]
  },
  {
   "cell_type": "markdown",
   "metadata": {},
   "source": [
    "## Sampling\n",
    "\n"
   ]
  },
  {
   "cell_type": "markdown",
   "metadata": {},
   "source": [
    "Sampling er når vi tar en kontinuerlig funksjon og gjør den diskret. Intuitivt så kan vi si at vi deler opp den kontinuerlige funksjonen i biter med lik intervall mellom seg, og så tar vi verdien til funksjonen i disse punktene: \n",
    "\n",
    "<img src=\"plots/p4_cont.png\" width=\"400px\"> <img src=\"plots/p4_cont_samp.png\" width=\"400px\"> <img src=\"plots/p4_samp.png\" width=\"400px\"> "
   ]
  },
  {
   "cell_type": "markdown",
   "metadata": {},
   "source": [
    "Etter vi har gjort dette har vi en diskret tallrekke som kan lagres på og bli behandlet av datamaskinen. \n",
    "\n",
    "La oss introdusere noen nye begreper: \n",
    "\n",
    "- $N$: Total antall samplepunkter i den diskrete funksjonen. \n",
    "- Samplingsintervall: Også kjent som samplingsperiode. Dette er avstanden mellom hvert samplepunkt, og er ofte betegnet med $T_s$, med sekunder som enhet.\n",
    "- Samplingsfrekvens: Dette er antall samplepunkter per sekund, og er ofte betegnet med $f_s$, med enheten Hz. Samplingsfrekvensen er da den inverse av samplingsintervallet: $f_s = \\frac{1}{T_s}$\n",
    "\n",
    "Hvis vi da tar for oss en sinusfunksjon som vi pleier å se i Python:\n",
    "```python\n",
    "t = np.linspace(0, 10, 1000) # tid fra 0 til 2 sekunder med 1000 samplepunkter\n",
    "sinus = np.sin(t)\n",
    "```\n",
    "\n",
    "er $N = 1000$, samplingsintervallet er $T_s = 10/1000 = 0.01$ sekunder, og samplingsfrekvensen er $f_s = 1/T_s = 100$ Hz.\n",
    "\n",
    "Jeg vil bemerke at konverteringen mellom en kontinuerlig og diskret funksjon (også kalt anolog til digital konvertering) er noe som skjer på hardwarenivå, eksempelvis når du har en mikrofon som tar inn lydbølge, altså en anolog (kontinuerlig) verdi og konverterer den til en digital tallrekke som kan lagres og tolkes på datamaskinen. Så når vi lager en sinus i Python som i snutten ovenfor eller importerer ett eller annet datasett, så er disse allerede diskrete, og du trenger ikke å bry deg om å sample de, altså konvertere de fra kontinuerlig til diskret. Man kan gjøre opp- eller downsampling på diskrete verdier, altså endre samplingfrekvensen til noe som er allerede diskret, men dette er et tema som tilhører en dediktert kurs i digital signalbehandling og er ikke noe vi kommer til å gå inn på her. \n"
   ]
  },
  {
   "cell_type": "markdown",
   "metadata": {},
   "source": [
    "## Undersampling og Nyquist-Shannon samplingsteoremet"
   ]
  },
  {
   "cell_type": "markdown",
   "metadata": {},
   "source": [
    "Hva skjer hvis vi har en kontinuerlig funksjon, og vi prøver å sample den med en for lav samplingsfrekvens? La oss ta sinusfunksjonen fra kodesnutten ovenfor som eksempel:\n",
    "\n",
    "```python\n",
    "t = np.linspace(0, 10, 1000) \n",
    "sinus = np.sin(t)\n",
    "```\n",
    "\n",
    "Hvis vi plotter den rett ut så ser den slik ut:\n",
    "\n",
    "<img src=\"plots/p4_sine.png\" width=\"400px\">"
   ]
  },
  {
   "cell_type": "markdown",
   "metadata": {},
   "source": [
    "Ser ut som en helt vanlig sinusfunksjon. La oss nå minke samplingsfrekvensen, altså øke samplingsintervallet til noe banalt: \n",
    "\n",
    "```python\n",
    "t = np.linspace(0, 10, 3) \n",
    "sinus = np.sin(t)\n",
    "```\n",
    "\n",
    "Vi har altså en sinusfunksjon med frekvens på en Hz, som vi skal prøve å plotte med kun tre punkter fordelt på 10 sekunder. Samplingsintervallet er nå $T_s = 10/3$ sekunder, og samplingsfrekvensen er $f_s = 1/T_s = 3/10$ Hz. Hvis vi plotter denne funksjonen så får vi:"
   ]
  },
  {
   "cell_type": "markdown",
   "metadata": {},
   "source": []
  }
 ],
 "metadata": {
  "kernelspec": {
   "display_name": "Python 3",
   "language": "python",
   "name": "python3"
  },
  "language_info": {
   "codemirror_mode": {
    "name": "ipython",
    "version": 3
   },
   "file_extension": ".py",
   "mimetype": "text/x-python",
   "name": "python",
   "nbconvert_exporter": "python",
   "pygments_lexer": "ipython3",
   "version": "3.9.6"
  },
  "orig_nbformat": 4
 },
 "nbformat": 4,
 "nbformat_minor": 2
}
