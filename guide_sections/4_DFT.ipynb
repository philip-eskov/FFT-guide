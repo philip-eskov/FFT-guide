{
 "cells": [
  {
   "cell_type": "markdown",
   "metadata": {},
   "source": [
    "# Del 4: Sampling og den diskrete Fouriertransformasjonen\n",
    "\n",
    "I denne delen kommer jeg til å introdusere den diskrete Fouriertransformasjonen. Fouriertransformasjonen som vi har hittil sett på er det som kalles den kontinuerlige Fouriertransformasjonen, og er definert for kontinuerlige funksjoner. Dette skaper problemer når vi skal implementere Fouriertransformen på en datamaskin. Datamaskiner kan kun gjennomføre regneoperasjoner på diskrete verider, og vi må derfor ha en diskret versjon av Fouriertransformasjonen som gir en diskret resultat.\n",
    "\n",
    "La oss gå fra den kontinuerlige Fouriertransformasjonen til den diskrete. Vi gjør dette i to steg. Først så bytter vi ut den kontinuerlige funksjonen $f(t)$ med en diskret funksjon $x(n)$. I vår tilfelle er det tilskrekkelig å se på denne funksjonen som en tallfølge (ofte representert som en array i Python). Vi må også benytte oss av summetegnet i stedet for integraltenget, siden vi nå har en diskret funksjon.\n",
    "\n",
    "Fouriertransformasjonen ser nå slik ut: \n",
    "\n",
    "$$X(\\xi) = \\sum_{-\\infty}^{\\infty} x(n)e^{-i 2\\pi \\xi n}$$\n",
    "\n",
    "Dette kalles for DTFT-en, eller diskret-tids Fouriertransformasjonen. Merk at $\\xi$, altså variablen til frekvens, er fortsatt en kontinuerlig variabel. Så selv om DTFT-en gjennomfører Fouriertransormasjonen på en diskret funksjon, så gir den fortsatt en kontinuerlig resultat. I tillegg tar summegrensene rede for at funksjonen er uendelig, som er litt rart når vi skal jobbe med endelige tallfølger på en datamaskin. Vi må altså diskretisere frekvensvariabelen $\\xi$, og endre på summegrensene for å få det vi vil. \n",
    "\n",
    "Vi diskretiserer $\\xi$ på følgende måte: \n",
    "\n",
    "$$\\xi = \\frac{k}{N}$$\n",
    "\n",
    "hvor $k$ er den k-te \"bin-en,\" eller frequency bin, i $X(k)$. Ved å diskretisere $\\xi$, har vi grovt sagt \"kuttet opp\" frekvensvariabelen $\\xi$ inn i $N$ deler. En slik del av frekvensvariabelen kalles ofte for en \"bin,\" og hver slik bin har en viss verdi for frekvens assosiert med den. Vi kan dermed si at $k$ er en indeks som representerer en viss frekvens.\n",
    "\n",
    "Vi endrer også summegrensene slik at de summerer over en endelig lengde, altså fra første element i $x(n)$ til den siste. Fouriertransformasjonen vår blir da:\n",
    "\n",
    "$$X(k) = \\sum_{n=0}^{N - 1} x(n)e^{-i\\frac{2\\pi nk}{N}}$$\n",
    "\n",
    "Hvor $x(n)$ er en diskret funksjon, og $X(k)$ er den diskrete Fouriertransformasjonen av $x(n)$. $N$ er antall punkter i $x(n)$, og $k$ er den k-te frekvensen. Dette kalles for DFT-en, eller den diskrete Fouriertransformasjonen, og det er akkurat denne vi bruker når vi implementerer Fouriertransformasjonen på en datamaskin.\n",
    "\n"
   ]
  },
  {
   "cell_type": "markdown",
   "metadata": {},
   "source": [
    "Prinsippet til DFT-en er da akkurat den samme som med den kontinuerlige Fouriertransformasjonen: vi tar en eller annen funksjon som befinner seg i tidsdomenet, og transformerer den til frekvensdomenet. Allikevel så er det noen nyanser med DFT-en som vi må være klar over. For at vi skal kunne forstå oss på disse nyansene, så må vi først se på hvordan man diskretiserer en kontinuerlig funksjon, også kalt sampling:"
   ]
  },
  {
   "cell_type": "markdown",
   "metadata": {},
   "source": [
    "## Sampling\n",
    "\n"
   ]
  },
  {
   "cell_type": "markdown",
   "metadata": {},
   "source": [
    "Sampling er når vi tar en kontinuerlig funksjon og gjør den diskret. Intuitivt så kan vi si at vi deler opp den kontinuerlige funksjonen i biter med lik intervall mellom seg, og så tar vi verdien til funksjonen i disse punktene: \n",
    "\n",
    "<img src=\"plots/p4_cont.png\" width=\"400px\"> <img src=\"plots/p4_cont_samp.png\" width=\"400px\"> <img src=\"plots/p4_samp.png\" width=\"400px\"> "
   ]
  },
  {
   "cell_type": "markdown",
   "metadata": {},
   "source": [
    "Etter vi har gjort dette har vi en diskret tallfølge som kan lagres på og bli behandlet av en datamaskin. \n",
    "\n",
    "La oss introdusere noen nye begreper: \n",
    "\n",
    "- $N$: Total antall samplepunkter i den diskrete funksjonen. \n",
    "- $T$: Samplingsintervall. Også kjent som samplingsperiode. Dette er avstanden mellom hvert samplepunkt, med sekunder som enhet.\n",
    "- $f_s$: Samplingsfrekvens. Dette er antall samplepunkter per sekund, med enhet Hz. Samplingsfrekvensen er den inverse av samplingsintervallet: $f_s = \\frac{1}{T_s}$\n",
    "\n",
    "Hvis vi da tar for oss en sinusfunksjon som vi pleier å se i Python:\n",
    "```python\n",
    "t = np.linspace(0, 10, 1000) # tid i sekunder, fra 0 til 10 sekunder med 1000 samplepunkter\n",
    "sinus = np.sin(t)\n",
    "```\n",
    "\n",
    "er $N = 1000$, samplingsintervallet er $T_s = 10/1000 = 0.01$ sekunder, og samplingsfrekvensen er $f_s = 1/T_s = 100$ Hz.\n",
    "\n",
    "Konverteringen fra kontinuerlig til diskret er en prosess som kalles for anolog til digital konvertering, og er noe som skjer på hardwarenivå, for eksempel i en mikrofon som tar inn en lydbølge (en anolog / kontinuerlig verdi) og konverterer den til en digital tallrekke ved å sample den. I kodesnutten ovenfor definerer vi arrayet $t$ og bruker den som input inn i Numpy sin sinusfunksjon, som gir oss enda en array med verdiene til sinusfunksjonen i de punktene. Vi har da ikke tatt en anolog signal og konvertert den til en digital en, men heller laget en diskret tallfølge fra bunnen av.\n"
   ]
  },
  {
   "cell_type": "markdown",
   "metadata": {},
   "source": [
    "## Undersampling og Nyquists samplingsteorem"
   ]
  },
  {
   "cell_type": "markdown",
   "metadata": {},
   "source": [
    "Hva skjer hvis vi har en kontinuerlig funksjon og hakker den opp (sampler) den med en lav samplingsfrekvens? La oss ta sinusfunksjonen fra kodesnutten ovenfor som en eksempel:\n",
    "\n",
    "```python\n",
    "t = np.linspace(0, 10, 1000) \n",
    "sinus = np.sin(t)\n",
    "```\n",
    "\n",
    "Hvis vi plotter den rett ut ser den slik ut:\n",
    "\n",
    "<img src=\"plots/p4_sine.png\" width=\"400px\">"
   ]
  },
  {
   "cell_type": "markdown",
   "metadata": {},
   "source": [
    "Ser ut som en helt vanlig sinusfunksjon. La oss nå minke samplingsfrekvensen, altså øke samplingsintervallet til noe jeg mener er banalt: \n",
    "\n",
    "```python\n",
    "t = np.linspace(0, 10, 3) \n",
    "sinus = np.sin(t)\n",
    "```\n",
    "\n",
    "Vi har altså en sinusfunksjon med en frekvens på $2\\pi$ Hz, som vi skal prøve å sample med kun tre punkter fordelt på 10 sekunder. Samplingsintervallet er nå $T_s = 10/3$ sekunder, og samplingsfrekvensen er $f_s = 1/T_s = 3/10$ Hz. Hvis vi plotter denne funksjonen så får vi:\n",
    "\n",
    "<img src=\"plots/p4_sine_usamp.png\" width=\"400px\">"
   ]
  },
  {
   "cell_type": "markdown",
   "metadata": {},
   "source": [
    "Her kan vi bemerke at plottet er særdeles stygg for å være en sinusfunksjon, og at vi mister informasjon om hvor ofte funksjonen svinger. I det \"fine\" plottet ser vi tydelig at funksjonen svinger ca. 1.5 ganger i løpet av 10 sekunder, mens ut ifra det stygge plottet så kan vi fort tro at den svinger mindre enn en gang i løpet av samme tid.\n",
    "\n",
    "Dette kalles for undersampling. Vi har altså en funksjon med en eller annen frekvenskomponent, i dette tilfellet kun en frekvenskomponent med frekvens lik $2\\pi$ Hz, og vi sampler den med en samplingsfrekvens som er for lav. Dette fører til at vi mister informasjon om frekvenskomponentene til funksjonen. \n",
    "\n",
    "Men hva er \"for lav\" samplingsfrekvens? Altså, hva er den laveste samplingsfrekvensen vi kan ha før vi begynner å miste informasjon om funksjonen? Da er vi inne på **Nyquists samplingsteorem**, som sier at for å unngå undersampling, så **må samplingsfrekvensen være minst dobbelt så stor som den høyeste frekvenskomponenten i funksjonen**. Den høyeste frekvensen vi kan sample uten å miste informasjon kalles for Nyquist-frekvensen, som er da halvparten av samplingsfrekvensen.\n",
    "\n",
    "Hvis vi tar for oss en funksjon som er en sum av to sinusfunksjoner med frekvenser 1 Hz og 2 Hz, så må samplingsfrekvensen være minst 4 Hz for å unngå undersampling. Med en samplingsfrekvens på 4 Hz så vil vi få en Nyquist-frekvens på 2 Hz. Om vi sampler med en samplingsfrekvens på 10 Hz så vil Nyquist-frekvensen være 5 Hz, altså den høyeste frekvenskomponenten vi kan sample uten å miste informasjon. Hvis vi derimot sampler med en samplingsfrekvens på 3 Hz, vil Nyquist-frekvensen være 1.5 Hz, altså lavere enn den høyeste frekvenskomponenten i funksjonen, og vi vil miste informasjon om funksjonen."
   ]
  },
  {
   "cell_type": "markdown",
   "metadata": {},
   "source": [
    "## Konsekvenser av diskretisering og undersampling i frekvensdomenet \n",
    "\n",
    "Så langt har vi sett på sampling og undersampling i tidsdomenet. Men har undersampling, og det at vi i det hele tatt har en diskret funksjon, konsekvenser i frekvensdomenet? Svaret er ja, og det er akkurat dette som skiller resultatet til DFT-en fra den kontinuerlige Fouriertransformasjonen. \n",
    "\n",
    "### Periodisering\n",
    "\n",
    "En av konsekvensene av å diskretisere Fouriertransformasjonen og funksjonen vi transformerer er at DFT-en \"ser\" funksjonen den skal transformere som en periodisk funksjon, uansett om den faktisk er det eller ikke. I tillegg til dette så kommer frekvenspektret til å være periodisk, som er et konsekvens av at vi har transformert en diskret, og ikke kontinuerlig, funksjon:\n",
    "\n",
    "<img src=\"plots/cont_disc_spectra.gif\" width=\"800px\">"
   ]
  },
  {
   "cell_type": "markdown",
   "metadata": {},
   "source": [
    "*Forholdet mellom den kontinuerlige Fouriertransformasjonen og den diskrete Fouriertransformasjonen. Fra* *[Wikipedia](https://en.wikipedia.org/wiki/Discrete_Fourier_transform)* *, av bruker Sbyrnes321.*\n",
    "\n",
    "*Venstre kolonne: En kontinuerlig funksjon i tidsdomenet (øverst) og dens Fourier-transformasjon (nederst).* \n",
    "\n",
    "*Midt-venstre kolonne: En kontinuerlig, periodisk funksjon (øverst). Fourier-transformasjonen (nederst) er null unntatt ved diskrete punkter, altså den består av en endelig antall frekvenskomponenter.*\n",
    "\n",
    "*Midt-høyre kolonne: Den opprinnelige funksjonen er diskretisert (øverst). Vi tar dens Fouriertransformasjon med DTFT-en, og dens Fouriertransformasjon (nederst) er en repetisjon av frekvensspektret av dens kontinuerlige versjon.*\n",
    "\n",
    "*Høyre kolonne: Vi tar DTFT-en til den opprinnelige funksjonen og diskretiserer den, og dette blir da en DFT (nederst). I DFT-en sin tilfelle blir funksjonen i tidsdomenet en periodisk repetisjon av den opprinnelige diskrete funksjonen (øverst). Dette er hva DFT-en \"ser\" når den transformerer en funksjon til frekvensdomenet.*"
   ]
  },
  {
   "cell_type": "markdown",
   "metadata": {},
   "source": [
    "Oppsumert: selv om en kontinuerlig funksjon er i utgangspunktet aperiodisk og har en aperiodisk frekvensspekter, så kommer dens frekvensdomene til å bli periodisk om vi diskretiserer den. I DFT-en sin tilfelle, så \"ser\" DFT-en alle funksjoner som periodiske funksjoner i tidsdomenet, uansett om vi i utgangspunktet tar en aperiodisk funksjon. Kort fortalt så er dette fordi i motsetning til DTFT-en, som summerer fra og til uendeligheten og dermed tar rede for en uenderlig diskret funksjon, så summerer DFT-en kun over en endelig lengde, og dermed må den anta at funksjonen er periodisk.\n",
    "\n",
    "Avstanden mellom hver periode i frekvensdomenet er samplingsfrekvensen:\n",
    "\n",
    "**INSERT IMAGE HERE**"
   ]
  },
  {
   "cell_type": "markdown",
   "metadata": {},
   "source": [
    "Så hva skjer når vi undersampler, og avstanden mellom hver periode i frekvensdomenet blir mindre enn Nyquist-frekvensen? Da vil vi få noe som kalles for aliasing.\n",
    "\n",
    "### Aliasing\n",
    "\n",
    "Aliasing skjer når vi undersampler en signal, og periodene i frekvensdomenet begynner å overlappe hverandre. Som følge av dette får vi villedende informasjon om hvilke frekvenskomponenter inngår i funksjonen."
   ]
  },
  {
   "cell_type": "markdown",
   "metadata": {},
   "source": [
    "## Litt om FFT-en \n",
    "\n",
    "Når man implementerer Fouriertransformasjonen, altså DFT-en, på en datamaskin, bruker vi ofte begrepet FFT. FFT står for fast Fourier transform (rask Fouriertransformasjon) og er en algoritme som regner ut DFT-en på en rask måte. **Resultatet av en FFT er akkurat den samme som en DFT.** Ikke bli forvirret av at dette er to forskjellige begreper, de regner ut akkurat det samme. Den eneste forskjellen er at FFTen er en optimalisering av DFT formelen vi så tidligere. Hvis du er kjent med big-Oh notasjon, er DFT-en $O(n^2)$ i tidskompleksitet, mens FFT-en er $O(n\\log n)$."
   ]
  },
  {
   "cell_type": "markdown",
   "metadata": {},
   "source": []
  },
  {
   "cell_type": "markdown",
   "metadata": {},
   "source": []
  }
 ],
 "metadata": {
  "kernelspec": {
   "display_name": "Python 3",
   "language": "python",
   "name": "python3"
  },
  "language_info": {
   "codemirror_mode": {
    "name": "ipython",
    "version": 3
   },
   "file_extension": ".py",
   "mimetype": "text/x-python",
   "name": "python",
   "nbconvert_exporter": "python",
   "pygments_lexer": "ipython3",
   "version": "3.9.6"
  },
  "orig_nbformat": 4
 },
 "nbformat": 4,
 "nbformat_minor": 2
}
